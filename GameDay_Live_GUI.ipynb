{
 "cells": [
  {
   "cell_type": "markdown",
   "metadata": {},
   "source": [
    "# GameDay2021 Live GUI Draft Example\n",
    "\n",
    "See the GameDay_Notebook for examples of running simulations.  This page will focus in-depth on using the code in a live-draft situation.  \n",
    "\n",
    "You need three components, all which are provided, but can be edited/substituted:\n",
    "1. Projections\n",
    "2. Rankings\n",
    "3. Injuries\n",
    "\n",
    "#### Projections \n",
    "Made available for you via [Fangraphs](https://www.fangraphs.com/projections.aspx?pos=all&stats=bat&type=zips) are ZiPS, Steamer, and TheBat projections.  Adding your own shouldn't be too hard, see the directories and data for formatting.  \n",
    "#### Rankings \n",
    "Available rankings were scraped from FantasyPros, which give you the option to choose from Yahoo, ESPN, etc., so that adding your own is simple and could provide an edge.  Case in point, I'm working on my own ranking based off simulations and will soon add the option.  \n",
    "#### Injuries\n",
    "Filtering out players no longer available will improve the prediction power of the code.  Simply add names to the injury spreadsheet provided.  \n",
    "#### Live-Draft Picks\n",
    "New GUI replaces previous editing of Excel spreadsheet but still requires user input.  Since drafting is live, you will need to enter the draft results of every team as it's happening.  \n"
   ]
  },
  {
   "cell_type": "code",
   "execution_count": 1,
   "metadata": {},
   "outputs": [],
   "source": [
    "import pdb\n",
    "import os\n",
    "import sys\n",
    "import pandas as pd\n",
    "pd.options.mode.chained_assignment = None\n",
    "import numpy as np\n",
    "import copy\n",
    "from PyQt5 import QtCore, QtGui, QtWidgets\n",
    "\n",
    "from GameDayFunctions.fangraphs_projection_2021 import Projection\n",
    "from GameDayFunctions.draft_2021 import Draft"
   ]
  },
  {
   "cell_type": "code",
   "execution_count": 2,
   "metadata": {},
   "outputs": [
    {
     "name": "stdout",
     "output_type": "stream",
     "text": [
      "projections/2021/ZiPS_2021_Pitchers.csv\n",
      "projections/2021/ZiPS_2021_Hitters.csv\n"
     ]
    }
   ],
   "source": [
    "autodraft_depth = 'end'\n",
    "search_depth = 2\n",
    "year = 2021\n",
    "path_data = \"projections/\"\n",
    "path_drafts = \"Draft_Pick_Spreadsheets/\"\n",
    "shuffle_picks = False\n",
    "ranking_method = 'FantasyPros'\n",
    "player_ranking_zips = Projection(path_data=path_data,year=year,model='ZiPS',ranking_method = ranking_method)\n",
    "player_rankings = {\"ZiPS\":player_ranking_zips}\n",
    "number_teams = 12\n",
    "roster_spots = {'C':1,'1B':1,'2B':1, '3B':1,'SS':1,'OF':3,'UTIL':1,'SP':2,'RP':2,'P':3,'BN':1}\n",
    "batter_stats  = ['AB','R','1B','2B', '3B','HR','RBI','SB','BB','AVG','OPS']\n",
    "pitcher_stats = ['IP','W', 'L','CG','SHO','SV','BB','SO','ERA','WHIP','BSV'] \n",
    "draft_position = 8\n",
    "\n",
    "# Choose the projection system you prefer ()\n",
    "zips = Draft(player_rankings['ZiPS'], draft_position = draft_position, number_teams = number_teams,roster_spots = roster_spots,batter_stats = batter_stats,pitcher_stats = pitcher_stats)"
   ]
  },
  {
   "cell_type": "code",
   "execution_count": 3,
   "metadata": {},
   "outputs": [],
   "source": [
    "import pdb\n",
    "import os\n",
    "import sys\n",
    "import pandas as pd\n",
    "from PyQt5.QtWidgets import QApplication, QWidget, QTableWidget, QTableWidgetItem, QHeaderView, QLineEdit, \\\n",
    "                            QPushButton, QItemDelegate, QVBoxLayout\n",
    "from PyQt5.QtCore import Qt\n",
    "from PyQt5.QtGui import QDoubleValidator\n",
    "\n",
    "class FloatDelegate(QItemDelegate):\n",
    "    def __init__(self, parent=None):\n",
    "        super().__init__()\n",
    "\n",
    "    def createEditor(self, parent, option, index):\n",
    "        editor = QLineEdit(parent)\n",
    "        editor.setValidator(QDoubleValidator())\n",
    "        return editor\n",
    "\n",
    "class TableWidget(QTableWidget):\n",
    "    def __init__(self, df):\n",
    "        super().__init__()\n",
    "        self.df = df\n",
    "        self.setStyleSheet('font-size: 16px;')\n",
    "\n",
    "        # set table dimension\n",
    "        nRows, nColumns = self.df.shape\n",
    "        self.setColumnCount(nColumns)\n",
    "        self.setRowCount(nRows)\n",
    "\n",
    "        self.setHorizontalHeaderLabels(('Picks', 'PLAYER', 'EligiblePosition'))\n",
    "        self.verticalHeader().setSectionResizeMode(QHeaderView.Stretch)\n",
    "        self.horizontalHeader().setSectionResizeMode(QHeaderView.Stretch)\n",
    "\n",
    "        self.setItemDelegateForColumn(1, FloatDelegate())\n",
    "\n",
    "        # data insertion\n",
    "        for i in range(self.rowCount()):\n",
    "            for j in range(self.columnCount()):\n",
    "                self.setItem(i, j, QTableWidgetItem(str(self.df.iloc[i, j])))\n",
    "\n",
    "        self.cellChanged[int, int].connect(self.updateDF)   \n",
    "\n",
    "    def updateDF(self, row, column):\n",
    "        text = self.item(row, column).text()\n",
    "        self.df.iloc[row, column] = text\n",
    "        \n",
    "class DFEditor(QWidget):\n",
    "\n",
    "    #path = \"/Users/marcoviero/Code/Git_Repositories/GameDay2021/projections/2021/PositionalRankings/ESPN/ESPN_Roto_Ranking_2021.xlsx\"\n",
    "    #df = pd.read_excel(path)\n",
    "    #df['Pick'] = \"\"\n",
    "    #df = df[['Pick', 'PLAYER', 'Elig. Pos.']]\n",
    "    \n",
    "    def __init__(self, df, gameday_df, draft_pick_file = 'Draft_pick_export.xlsx'):\n",
    "        super().__init__()\n",
    "        self.resize(900, 600)\n",
    "        \n",
    "        self.draft_pick_file = draft_pick_file\n",
    "        self.gameday_df = gameday_df\n",
    "\n",
    "        mainLayout = QVBoxLayout()\n",
    "\n",
    "        self.table = TableWidget(df)\n",
    "        mainLayout.addWidget(self.table)\n",
    "\n",
    "        #button_print = QPushButton('Sort Picks')\n",
    "        #button_print.setStyleSheet('font-size: 14px')\n",
    "        #button_print.clicked.connect(self.display_sorted_picks)\n",
    "        #mainLayout.addWidget(button_print)\n",
    "        \n",
    "        button_print = QPushButton('Draft Player')\n",
    "        button_print.setStyleSheet('font-size: 14px')\n",
    "        button_print.clicked.connect(self.make_draft_pick)\n",
    "        mainLayout.addWidget(button_print)\n",
    "\n",
    "        button_export = QPushButton('Export to CSV file')\n",
    "        button_export.setStyleSheet('font-size: 14px')\n",
    "        button_export.clicked.connect(self.export_to_csv)\n",
    "        mainLayout.addWidget(button_export)     \n",
    "\n",
    "        self.setLayout(mainLayout)\n",
    "        \n",
    "    def make_draft_pick(self):\n",
    "        self.export_to_csv()\n",
    "        autodraft_depth = 'end'\n",
    "        draft_pick_file = self.draft_pick_file\n",
    "        player_to_pick, projected_roto_stats = self.gameday_df.draft_from_list_and_find_best_pick(search_depth = 2, autodraft_depth = autodraft_depth, draft_pick_file = draft_pick_file)\n",
    "    \n",
    "    def display_sorted_picks(self):\n",
    "        #print(self.table.df)\n",
    "        self.table.df[\"Pick\"][self.table.df.Pick == \"\"] = \"9999\"\n",
    "        self.table.df = self.table.df.sort_values(by='Pick')\n",
    "        self.table.df[\"Pick\"][self.table.df.Pick == \"9999\"] = \"\"\n",
    "        \n",
    "\n",
    "    def export_to_csv(self):\n",
    "        df_out = self.table.df.copy()\n",
    "        df_out[\"Pick\"][df_out.Pick == \"\"] = \"9999\"\n",
    "        df_out = df_out.sort_values(by='Pick')\n",
    "        df_out = df_out[df_out.Pick != \"9999\"] \n",
    "        df_out.to_excel(os.path.join('Draft_Pick_Spreadsheets',self.draft_pick_file), index=False)\n",
    "        print('CSV file exported.')\n",
    "\n",
    "#if __name__ == '__main__':\n",
    "#    app = QApplication(sys.argv)\n",
    "#    path = \"/Users/marcoviero/Code/Git_Repositories/GameDay2021/projections/2021/PositionalRankings/ESPN/ESPN_Roto_Ranking_2021.xlsx\"\n",
    "#    df = pd.read_excel(path)\n",
    "#    df['Pick'] = \"\"\n",
    "#    df = df[['Pick', 'PLAYER', 'Elig. Pos.']]\n",
    "#    demo = DFEditor(df)\n",
    "#    demo.show()\n",
    "#    \n",
    "#    sys.exit(app.exec_())"
   ]
  },
  {
   "cell_type": "code",
   "execution_count": 4,
   "metadata": {},
   "outputs": [],
   "source": [
    "def call_gameday2021_gui(gameday_df, path=\"/Users/marcoviero/Code/Git_Repositories/GameDay2021/projections/2021/PositionalRankings/\",ranking='ESPN'):\n",
    "    filename = ranking+'_Roto_Ranking_2021.xlsx'\n",
    "    filepath = os.path.join(path,ranking,filename) \n",
    "    \n",
    "    app = QApplication(sys.argv)\n",
    "    df = pd.read_excel(filepath)\n",
    "    df['Pick'] = \"\"\n",
    "    df = df[['Pick', 'PLAYER', 'Elig. Pos.']]\n",
    "    demo = DFEditor(df, gameday_df)\n",
    "    demo.show()\n",
    "\n",
    "    sys.exit(app.exec_())"
   ]
  },
  {
   "cell_type": "code",
   "execution_count": null,
   "metadata": {},
   "outputs": [
    {
     "name": "stdout",
     "output_type": "stream",
     "text": [
      "CSV file exported.\n",
      "Finding Best Pick For Team 8\n",
      "Stored Result for Pick 0 [8/7] Trea Turner SS whose placement/score is 7/127.5\n",
      "Stored Result for Pick 1 [8/9] Christian Yelich OF whose placement/score is 8/127.5\n",
      "Stored Result for Pick 2 [8/10] Trevor Story SS whose placement/score is 6/142.0\n",
      "Stored Result for Pick 3 [8/11] Shane Bieber SP whose placement/score is 3/142.0\n",
      "Stored Result for Pick 4 [8/12] Jose Ramirez 3B whose placement/score is 5/136.5\n",
      "Stored Result for Pick 5 [8/13] Freddie Freeman 1B whose placement/score is 6/133.5\n",
      "Stored Result for Pick 6 [8/14] Bryce Harper OF whose placement/score is 2/153.5\n",
      "Stored Result for Pick 7 [8/15] Cody Bellinger 1B whose placement/score is 5/143.0\n",
      "Stored Result for Pick 8 [8/17] Manny Machado 3B whose placement/score is 5/137.0\n",
      "Stored Result for Pick 9 [8/18] Trevor Bauer SP whose placement/score is 10/120.5\n",
      "Stored Result for Pick 10 [8/32] Ozzie Albies 2B whose placement/score is 9/121.0\n",
      "Stored Result for Pick 11 [8/34] DJ LeMahieu 2B whose placement/score is 12/108.0\n",
      "Stored Result for Pick 12 [8/51] J.T. Realmuto C whose placement/score is 4/133.0\n",
      "Stored Result for Pick 13 [8/53] Kenta Maeda RP whose placement/score is 9/124.5\n",
      "Not Storing Result for Pick 14 [8/62] Josh Hader RP\n",
      "Not Storing Result for Pick 15 [8/105] Salvador Perez C\n",
      "Best Pick is Bryce Harper putting you in 2 place\n",
      "CSV file exported.\n",
      "Finding Best Pick For Team 7\n",
      "> /Users/marcoviero/Code/Git_Repositories/GameDay2021/GameDayFunctions/draft_2021.py(275)draft_remaining()\n",
      "-> teams_copy, df_copy = self.draft_next_best(iteam, teams_copy, df_copy, iround, shuffle_picks = shuffle_picks)\n"
     ]
    },
    {
     "name": "stdin",
     "output_type": "stream",
     "text": [
      "(Pdb)  c\n"
     ]
    },
    {
     "name": "stdout",
     "output_type": "stream",
     "text": [
      "> /Users/marcoviero/Code/Git_Repositories/GameDay2021/GameDayFunctions/draft_2021.py(485)draft_next_best()\n",
      "-> teams[team_key] = self.draft_into_teams(teams[team_key], drafted_player, silent = True)\n"
     ]
    },
    {
     "name": "stdin",
     "output_type": "stream",
     "text": [
      "(Pdb)  c\n"
     ]
    },
    {
     "ename": "UnboundLocalError",
     "evalue": "local variable 'drafted_player' referenced before assignment",
     "output_type": "error",
     "traceback": [
      "\u001b[0;31m---------------------------------------------------------------------------\u001b[0m",
      "\u001b[0;31mUnboundLocalError\u001b[0m                         Traceback (most recent call last)",
      "\u001b[0;32m<ipython-input-3-3080cc796fb2>\u001b[0m in \u001b[0;36mmake_draft_pick\u001b[0;34m(self)\u001b[0m\n\u001b[1;32m     85\u001b[0m         \u001b[0mautodraft_depth\u001b[0m \u001b[0;34m=\u001b[0m \u001b[0;34m'end'\u001b[0m\u001b[0;34m\u001b[0m\u001b[0;34m\u001b[0m\u001b[0m\n\u001b[1;32m     86\u001b[0m         \u001b[0mdraft_pick_file\u001b[0m \u001b[0;34m=\u001b[0m \u001b[0mself\u001b[0m\u001b[0;34m.\u001b[0m\u001b[0mdraft_pick_file\u001b[0m\u001b[0;34m\u001b[0m\u001b[0;34m\u001b[0m\u001b[0m\n\u001b[0;32m---> 87\u001b[0;31m         \u001b[0mplayer_to_pick\u001b[0m\u001b[0;34m,\u001b[0m \u001b[0mprojected_roto_stats\u001b[0m \u001b[0;34m=\u001b[0m \u001b[0mself\u001b[0m\u001b[0;34m.\u001b[0m\u001b[0mgameday_df\u001b[0m\u001b[0;34m.\u001b[0m\u001b[0mdraft_from_list_and_find_best_pick\u001b[0m\u001b[0;34m(\u001b[0m\u001b[0msearch_depth\u001b[0m \u001b[0;34m=\u001b[0m \u001b[0;36m2\u001b[0m\u001b[0;34m,\u001b[0m \u001b[0mautodraft_depth\u001b[0m \u001b[0;34m=\u001b[0m \u001b[0mautodraft_depth\u001b[0m\u001b[0;34m,\u001b[0m \u001b[0mdraft_pick_file\u001b[0m \u001b[0;34m=\u001b[0m \u001b[0mdraft_pick_file\u001b[0m\u001b[0;34m)\u001b[0m\u001b[0;34m\u001b[0m\u001b[0;34m\u001b[0m\u001b[0m\n\u001b[0m\u001b[1;32m     88\u001b[0m \u001b[0;34m\u001b[0m\u001b[0m\n\u001b[1;32m     89\u001b[0m     \u001b[0;32mdef\u001b[0m \u001b[0mdisplay_sorted_picks\u001b[0m\u001b[0;34m(\u001b[0m\u001b[0mself\u001b[0m\u001b[0;34m)\u001b[0m\u001b[0;34m:\u001b[0m\u001b[0;34m\u001b[0m\u001b[0;34m\u001b[0m\u001b[0m\n",
      "\u001b[0;32m~/Code/Git_Repositories/GameDay2021/GameDayFunctions/draft_2021.py\u001b[0m in \u001b[0;36mdraft_from_list_and_find_best_pick\u001b[0;34m(self, search_depth, autodraft_depth, path_list, draft_pick_file, shuffle_picks, silent)\u001b[0m\n\u001b[1;32m    594\u001b[0m             \u001b[0mprint\u001b[0m\u001b[0;34m(\u001b[0m\u001b[0;34m'Finding Best Pick For Team '\u001b[0m\u001b[0;34m+\u001b[0m\u001b[0mstr\u001b[0m\u001b[0;34m(\u001b[0m\u001b[0miteam\u001b[0m\u001b[0;34m+\u001b[0m\u001b[0;36m1\u001b[0m\u001b[0;34m+\u001b[0m\u001b[0miter_team\u001b[0m\u001b[0;34m)\u001b[0m\u001b[0;34m)\u001b[0m\u001b[0;34m\u001b[0m\u001b[0;34m\u001b[0m\u001b[0m\n\u001b[1;32m    595\u001b[0m \u001b[0;34m\u001b[0m\u001b[0m\n\u001b[0;32m--> 596\u001b[0;31m         \u001b[0mbest_pick\u001b[0m\u001b[0;34m,\u001b[0m \u001b[0mbest_position\u001b[0m\u001b[0;34m,\u001b[0m \u001b[0mbest_placement\u001b[0m\u001b[0;34m,\u001b[0m \u001b[0mbest_score\u001b[0m \u001b[0;34m=\u001b[0m \u001b[0mself\u001b[0m\u001b[0;34m.\u001b[0m\u001b[0mfind_best_pick\u001b[0m\u001b[0;34m(\u001b[0m\u001b[0miteam\u001b[0m\u001b[0;34m+\u001b[0m\u001b[0miter_team\u001b[0m\u001b[0;34m,\u001b[0m\u001b[0mcopy\u001b[0m\u001b[0;34m.\u001b[0m\u001b[0mdeepcopy\u001b[0m\u001b[0;34m(\u001b[0m\u001b[0mteams_copy\u001b[0m\u001b[0;34m)\u001b[0m\u001b[0;34m,\u001b[0m\u001b[0mcopy\u001b[0m\u001b[0;34m.\u001b[0m\u001b[0mdeepcopy\u001b[0m\u001b[0;34m(\u001b[0m\u001b[0mdf_copy\u001b[0m\u001b[0;34m)\u001b[0m\u001b[0;34m,\u001b[0m\u001b[0miround\u001b[0m\u001b[0;34m,\u001b[0m\u001b[0msilent\u001b[0m\u001b[0;34m=\u001b[0m\u001b[0;32mFalse\u001b[0m\u001b[0;34m,\u001b[0m\u001b[0mautodraft_depth\u001b[0m \u001b[0;34m=\u001b[0m \u001b[0mautodraft_depth\u001b[0m\u001b[0;34m,\u001b[0m \u001b[0msearch_depth\u001b[0m \u001b[0;34m=\u001b[0m \u001b[0msearch_depth\u001b[0m\u001b[0;34m)\u001b[0m\u001b[0;34m\u001b[0m\u001b[0;34m\u001b[0m\u001b[0m\n\u001b[0m\u001b[1;32m    597\u001b[0m         \u001b[0mbest_player_this_round\u001b[0m \u001b[0;34m=\u001b[0m \u001b[0mdf_copy\u001b[0m\u001b[0;34m.\u001b[0m\u001b[0miloc\u001b[0m\u001b[0;34m[\u001b[0m\u001b[0mbest_pick\u001b[0m\u001b[0;34m-\u001b[0m\u001b[0;36m1\u001b[0m\u001b[0;34m]\u001b[0m\u001b[0;34m.\u001b[0m\u001b[0mPLAYER\u001b[0m\u001b[0;34m\u001b[0m\u001b[0;34m\u001b[0m\u001b[0m\n\u001b[1;32m    598\u001b[0m         \u001b[0mteams_copy\u001b[0m\u001b[0;34m,\u001b[0m \u001b[0mdf_copy\u001b[0m \u001b[0;34m=\u001b[0m \u001b[0mself\u001b[0m\u001b[0;34m.\u001b[0m\u001b[0mdraft_next_best\u001b[0m\u001b[0;34m(\u001b[0m\u001b[0miteam\u001b[0m\u001b[0;34m+\u001b[0m\u001b[0miter_team\u001b[0m\u001b[0;34m,\u001b[0m \u001b[0mteams_copy\u001b[0m\u001b[0;34m,\u001b[0m \u001b[0mdf_copy\u001b[0m\u001b[0;34m,\u001b[0m \u001b[0miround\u001b[0m\u001b[0;34m,\u001b[0m \u001b[0mforce_pick\u001b[0m \u001b[0;34m=\u001b[0m \u001b[0mbest_pick\u001b[0m\u001b[0;34m,\u001b[0m \u001b[0mforce_position\u001b[0m \u001b[0;34m=\u001b[0m \u001b[0mbest_position\u001b[0m\u001b[0;34m)\u001b[0m\u001b[0;34m\u001b[0m\u001b[0;34m\u001b[0m\u001b[0m\n",
      "\u001b[0;32m~/Code/Git_Repositories/GameDay2021/GameDayFunctions/draft_2021.py\u001b[0m in \u001b[0;36mfind_best_pick\u001b[0;34m(self, team_key, teams_copy, df_copy, round_key, search_depth, autodraft_depth, silent)\u001b[0m\n\u001b[1;32m    312\u001b[0m \u001b[0;34m\u001b[0m\u001b[0m\n\u001b[1;32m    313\u001b[0m             \u001b[0;31m# LOOP OVER WHOLE REST OF THE DRAFT HERE...\u001b[0m\u001b[0;34m\u001b[0m\u001b[0;34m\u001b[0m\u001b[0;34m\u001b[0m\u001b[0m\n\u001b[0;32m--> 314\u001b[0;31m             \u001b[0mteams_loop\u001b[0m\u001b[0;34m,\u001b[0m \u001b[0mdf_loop\u001b[0m \u001b[0;34m=\u001b[0m \u001b[0mself\u001b[0m\u001b[0;34m.\u001b[0m\u001b[0mdraft_remaining\u001b[0m\u001b[0;34m(\u001b[0m\u001b[0mteams_loop\u001b[0m\u001b[0;34m,\u001b[0m \u001b[0mdf_loop\u001b[0m\u001b[0;34m,\u001b[0m \u001b[0mround_key\u001b[0m\u001b[0;34m,\u001b[0m \u001b[0mautodraft_depth\u001b[0m \u001b[0;34m=\u001b[0m \u001b[0mautodraft_depth\u001b[0m\u001b[0;34m)\u001b[0m\u001b[0;34m\u001b[0m\u001b[0;34m\u001b[0m\u001b[0m\n\u001b[0m\u001b[1;32m    315\u001b[0m \u001b[0;34m\u001b[0m\u001b[0m\n\u001b[1;32m    316\u001b[0m             \u001b[0;31m# Calculate the best pseudo-standings\u001b[0m\u001b[0;34m\u001b[0m\u001b[0;34m\u001b[0m\u001b[0;34m\u001b[0m\u001b[0m\n",
      "\u001b[0;32m~/Code/Git_Repositories/GameDay2021/GameDayFunctions/draft_2021.py\u001b[0m in \u001b[0;36mdraft_remaining\u001b[0;34m(self, teams_copy, df_copy, draft_round, autodraft_depth, shuffle_picks)\u001b[0m\n\u001b[1;32m    273\u001b[0m                 \u001b[0;32mif\u001b[0m \u001b[0msum\u001b[0m\u001b[0;34m(\u001b[0m\u001b[0mteams_copy\u001b[0m\u001b[0;34m[\u001b[0m\u001b[0miteam\u001b[0m\u001b[0;34m]\u001b[0m\u001b[0;34m[\u001b[0m\u001b[0;34m'roster_spots'\u001b[0m\u001b[0;34m]\u001b[0m\u001b[0;34m.\u001b[0m\u001b[0mvalues\u001b[0m\u001b[0;34m(\u001b[0m\u001b[0;34m)\u001b[0m\u001b[0;34m)\u001b[0m \u001b[0;34m==\u001b[0m \u001b[0;36m0\u001b[0m\u001b[0;34m:\u001b[0m\u001b[0;34m\u001b[0m\u001b[0;34m\u001b[0m\u001b[0m\n\u001b[1;32m    274\u001b[0m                     \u001b[0mpdb\u001b[0m\u001b[0;34m.\u001b[0m\u001b[0mset_trace\u001b[0m\u001b[0;34m(\u001b[0m\u001b[0;34m)\u001b[0m\u001b[0;34m\u001b[0m\u001b[0;34m\u001b[0m\u001b[0m\n\u001b[0;32m--> 275\u001b[0;31m                 \u001b[0mteams_copy\u001b[0m\u001b[0;34m,\u001b[0m \u001b[0mdf_copy\u001b[0m \u001b[0;34m=\u001b[0m \u001b[0mself\u001b[0m\u001b[0;34m.\u001b[0m\u001b[0mdraft_next_best\u001b[0m\u001b[0;34m(\u001b[0m\u001b[0miteam\u001b[0m\u001b[0;34m,\u001b[0m \u001b[0mteams_copy\u001b[0m\u001b[0;34m,\u001b[0m \u001b[0mdf_copy\u001b[0m\u001b[0;34m,\u001b[0m \u001b[0miround\u001b[0m\u001b[0;34m,\u001b[0m \u001b[0mshuffle_picks\u001b[0m \u001b[0;34m=\u001b[0m \u001b[0mshuffle_picks\u001b[0m\u001b[0;34m)\u001b[0m\u001b[0;34m\u001b[0m\u001b[0;34m\u001b[0m\u001b[0m\n\u001b[0m\u001b[1;32m    276\u001b[0m \u001b[0;34m\u001b[0m\u001b[0m\n\u001b[1;32m    277\u001b[0m         \u001b[0;32mreturn\u001b[0m \u001b[0mteams_copy\u001b[0m\u001b[0;34m,\u001b[0m \u001b[0mdf_copy\u001b[0m\u001b[0;34m\u001b[0m\u001b[0;34m\u001b[0m\u001b[0m\n",
      "\u001b[0;32m~/Code/Git_Repositories/GameDay2021/GameDayFunctions/draft_2021.py\u001b[0m in \u001b[0;36mdraft_next_best\u001b[0;34m(self, team_key, teams, df, round_number, force_pick, force_position, shuffle_picks, search_depth, silent)\u001b[0m\n\u001b[1;32m    483\u001b[0m                 \u001b[0mpdb\u001b[0m\u001b[0;34m.\u001b[0m\u001b[0mset_trace\u001b[0m\u001b[0;34m(\u001b[0m\u001b[0;34m)\u001b[0m\u001b[0;34m\u001b[0m\u001b[0;34m\u001b[0m\u001b[0m\n\u001b[1;32m    484\u001b[0m \u001b[0;34m\u001b[0m\u001b[0m\n\u001b[0;32m--> 485\u001b[0;31m             \u001b[0mteams\u001b[0m\u001b[0;34m[\u001b[0m\u001b[0mteam_key\u001b[0m\u001b[0;34m]\u001b[0m \u001b[0;34m=\u001b[0m \u001b[0mself\u001b[0m\u001b[0;34m.\u001b[0m\u001b[0mdraft_into_teams\u001b[0m\u001b[0;34m(\u001b[0m\u001b[0mteams\u001b[0m\u001b[0;34m[\u001b[0m\u001b[0mteam_key\u001b[0m\u001b[0;34m]\u001b[0m\u001b[0;34m,\u001b[0m \u001b[0mdrafted_player\u001b[0m\u001b[0;34m,\u001b[0m \u001b[0msilent\u001b[0m \u001b[0;34m=\u001b[0m \u001b[0;32mTrue\u001b[0m\u001b[0;34m)\u001b[0m\u001b[0;34m\u001b[0m\u001b[0;34m\u001b[0m\u001b[0m\n\u001b[0m\u001b[1;32m    486\u001b[0m             \u001b[0;32mif\u001b[0m \u001b[0msilent\u001b[0m \u001b[0;34m==\u001b[0m \u001b[0;32mFalse\u001b[0m\u001b[0;34m:\u001b[0m\u001b[0;34m\u001b[0m\u001b[0;34m\u001b[0m\u001b[0m\n\u001b[1;32m    487\u001b[0m                 \u001b[0mprint\u001b[0m\u001b[0;34m(\u001b[0m\u001b[0;34m'Team '\u001b[0m\u001b[0;34m+\u001b[0m \u001b[0mstr\u001b[0m\u001b[0;34m(\u001b[0m\u001b[0mteam_key\u001b[0m\u001b[0;34m+\u001b[0m\u001b[0;36m1\u001b[0m\u001b[0;34m)\u001b[0m \u001b[0;34m+\u001b[0m\u001b[0;34m' Drafting '\u001b[0m\u001b[0;34m+\u001b[0m\u001b[0mdrafted_player\u001b[0m\u001b[0;34m.\u001b[0m\u001b[0miloc\u001b[0m\u001b[0;34m[\u001b[0m\u001b[0;36m0\u001b[0m\u001b[0;34m]\u001b[0m\u001b[0;34m.\u001b[0m\u001b[0mPLAYER\u001b[0m\u001b[0;34m)\u001b[0m\u001b[0;34m\u001b[0m\u001b[0;34m\u001b[0m\u001b[0m\n",
      "\u001b[0;31mUnboundLocalError\u001b[0m: local variable 'drafted_player' referenced before assignment"
     ]
    },
    {
     "name": "stdout",
     "output_type": "stream",
     "text": [
      "CSV file exported.\n",
      "Finding Best Pick For Team 6\n",
      "> /Users/marcoviero/Code/Git_Repositories/GameDay2021/GameDayFunctions/draft_2021.py(275)draft_remaining()\n",
      "-> teams_copy, df_copy = self.draft_next_best(iteam, teams_copy, df_copy, iround, shuffle_picks = shuffle_picks)\n"
     ]
    },
    {
     "name": "stdin",
     "output_type": "stream",
     "text": [
      "(Pdb)  c\n"
     ]
    },
    {
     "name": "stdout",
     "output_type": "stream",
     "text": [
      "> /Users/marcoviero/Code/Git_Repositories/GameDay2021/GameDayFunctions/draft_2021.py(485)draft_next_best()\n",
      "-> teams[team_key] = self.draft_into_teams(teams[team_key], drafted_player, silent = True)\n"
     ]
    },
    {
     "name": "stdin",
     "output_type": "stream",
     "text": [
      "(Pdb)  c\n"
     ]
    },
    {
     "ename": "UnboundLocalError",
     "evalue": "local variable 'drafted_player' referenced before assignment",
     "output_type": "error",
     "traceback": [
      "\u001b[0;31m---------------------------------------------------------------------------\u001b[0m",
      "\u001b[0;31mUnboundLocalError\u001b[0m                         Traceback (most recent call last)",
      "\u001b[0;32m<ipython-input-3-3080cc796fb2>\u001b[0m in \u001b[0;36mmake_draft_pick\u001b[0;34m(self)\u001b[0m\n\u001b[1;32m     85\u001b[0m         \u001b[0mautodraft_depth\u001b[0m \u001b[0;34m=\u001b[0m \u001b[0;34m'end'\u001b[0m\u001b[0;34m\u001b[0m\u001b[0;34m\u001b[0m\u001b[0m\n\u001b[1;32m     86\u001b[0m         \u001b[0mdraft_pick_file\u001b[0m \u001b[0;34m=\u001b[0m \u001b[0mself\u001b[0m\u001b[0;34m.\u001b[0m\u001b[0mdraft_pick_file\u001b[0m\u001b[0;34m\u001b[0m\u001b[0;34m\u001b[0m\u001b[0m\n\u001b[0;32m---> 87\u001b[0;31m         \u001b[0mplayer_to_pick\u001b[0m\u001b[0;34m,\u001b[0m \u001b[0mprojected_roto_stats\u001b[0m \u001b[0;34m=\u001b[0m \u001b[0mself\u001b[0m\u001b[0;34m.\u001b[0m\u001b[0mgameday_df\u001b[0m\u001b[0;34m.\u001b[0m\u001b[0mdraft_from_list_and_find_best_pick\u001b[0m\u001b[0;34m(\u001b[0m\u001b[0msearch_depth\u001b[0m \u001b[0;34m=\u001b[0m \u001b[0;36m2\u001b[0m\u001b[0;34m,\u001b[0m \u001b[0mautodraft_depth\u001b[0m \u001b[0;34m=\u001b[0m \u001b[0mautodraft_depth\u001b[0m\u001b[0;34m,\u001b[0m \u001b[0mdraft_pick_file\u001b[0m \u001b[0;34m=\u001b[0m \u001b[0mdraft_pick_file\u001b[0m\u001b[0;34m)\u001b[0m\u001b[0;34m\u001b[0m\u001b[0;34m\u001b[0m\u001b[0m\n\u001b[0m\u001b[1;32m     88\u001b[0m \u001b[0;34m\u001b[0m\u001b[0m\n\u001b[1;32m     89\u001b[0m     \u001b[0;32mdef\u001b[0m \u001b[0mdisplay_sorted_picks\u001b[0m\u001b[0;34m(\u001b[0m\u001b[0mself\u001b[0m\u001b[0;34m)\u001b[0m\u001b[0;34m:\u001b[0m\u001b[0;34m\u001b[0m\u001b[0;34m\u001b[0m\u001b[0m\n",
      "\u001b[0;32m~/Code/Git_Repositories/GameDay2021/GameDayFunctions/draft_2021.py\u001b[0m in \u001b[0;36mdraft_from_list_and_find_best_pick\u001b[0;34m(self, search_depth, autodraft_depth, path_list, draft_pick_file, shuffle_picks, silent)\u001b[0m\n\u001b[1;32m    594\u001b[0m             \u001b[0mprint\u001b[0m\u001b[0;34m(\u001b[0m\u001b[0;34m'Finding Best Pick For Team '\u001b[0m\u001b[0;34m+\u001b[0m\u001b[0mstr\u001b[0m\u001b[0;34m(\u001b[0m\u001b[0miteam\u001b[0m\u001b[0;34m+\u001b[0m\u001b[0;36m1\u001b[0m\u001b[0;34m+\u001b[0m\u001b[0miter_team\u001b[0m\u001b[0;34m)\u001b[0m\u001b[0;34m)\u001b[0m\u001b[0;34m\u001b[0m\u001b[0;34m\u001b[0m\u001b[0m\n\u001b[1;32m    595\u001b[0m \u001b[0;34m\u001b[0m\u001b[0m\n\u001b[0;32m--> 596\u001b[0;31m         \u001b[0mbest_pick\u001b[0m\u001b[0;34m,\u001b[0m \u001b[0mbest_position\u001b[0m\u001b[0;34m,\u001b[0m \u001b[0mbest_placement\u001b[0m\u001b[0;34m,\u001b[0m \u001b[0mbest_score\u001b[0m \u001b[0;34m=\u001b[0m \u001b[0mself\u001b[0m\u001b[0;34m.\u001b[0m\u001b[0mfind_best_pick\u001b[0m\u001b[0;34m(\u001b[0m\u001b[0miteam\u001b[0m\u001b[0;34m+\u001b[0m\u001b[0miter_team\u001b[0m\u001b[0;34m,\u001b[0m\u001b[0mcopy\u001b[0m\u001b[0;34m.\u001b[0m\u001b[0mdeepcopy\u001b[0m\u001b[0;34m(\u001b[0m\u001b[0mteams_copy\u001b[0m\u001b[0;34m)\u001b[0m\u001b[0;34m,\u001b[0m\u001b[0mcopy\u001b[0m\u001b[0;34m.\u001b[0m\u001b[0mdeepcopy\u001b[0m\u001b[0;34m(\u001b[0m\u001b[0mdf_copy\u001b[0m\u001b[0;34m)\u001b[0m\u001b[0;34m,\u001b[0m\u001b[0miround\u001b[0m\u001b[0;34m,\u001b[0m\u001b[0msilent\u001b[0m\u001b[0;34m=\u001b[0m\u001b[0;32mFalse\u001b[0m\u001b[0;34m,\u001b[0m\u001b[0mautodraft_depth\u001b[0m \u001b[0;34m=\u001b[0m \u001b[0mautodraft_depth\u001b[0m\u001b[0;34m,\u001b[0m \u001b[0msearch_depth\u001b[0m \u001b[0;34m=\u001b[0m \u001b[0msearch_depth\u001b[0m\u001b[0;34m)\u001b[0m\u001b[0;34m\u001b[0m\u001b[0;34m\u001b[0m\u001b[0m\n\u001b[0m\u001b[1;32m    597\u001b[0m         \u001b[0mbest_player_this_round\u001b[0m \u001b[0;34m=\u001b[0m \u001b[0mdf_copy\u001b[0m\u001b[0;34m.\u001b[0m\u001b[0miloc\u001b[0m\u001b[0;34m[\u001b[0m\u001b[0mbest_pick\u001b[0m\u001b[0;34m-\u001b[0m\u001b[0;36m1\u001b[0m\u001b[0;34m]\u001b[0m\u001b[0;34m.\u001b[0m\u001b[0mPLAYER\u001b[0m\u001b[0;34m\u001b[0m\u001b[0;34m\u001b[0m\u001b[0m\n\u001b[1;32m    598\u001b[0m         \u001b[0mteams_copy\u001b[0m\u001b[0;34m,\u001b[0m \u001b[0mdf_copy\u001b[0m \u001b[0;34m=\u001b[0m \u001b[0mself\u001b[0m\u001b[0;34m.\u001b[0m\u001b[0mdraft_next_best\u001b[0m\u001b[0;34m(\u001b[0m\u001b[0miteam\u001b[0m\u001b[0;34m+\u001b[0m\u001b[0miter_team\u001b[0m\u001b[0;34m,\u001b[0m \u001b[0mteams_copy\u001b[0m\u001b[0;34m,\u001b[0m \u001b[0mdf_copy\u001b[0m\u001b[0;34m,\u001b[0m \u001b[0miround\u001b[0m\u001b[0;34m,\u001b[0m \u001b[0mforce_pick\u001b[0m \u001b[0;34m=\u001b[0m \u001b[0mbest_pick\u001b[0m\u001b[0;34m,\u001b[0m \u001b[0mforce_position\u001b[0m \u001b[0;34m=\u001b[0m \u001b[0mbest_position\u001b[0m\u001b[0;34m)\u001b[0m\u001b[0;34m\u001b[0m\u001b[0;34m\u001b[0m\u001b[0m\n",
      "\u001b[0;32m~/Code/Git_Repositories/GameDay2021/GameDayFunctions/draft_2021.py\u001b[0m in \u001b[0;36mfind_best_pick\u001b[0;34m(self, team_key, teams_copy, df_copy, round_key, search_depth, autodraft_depth, silent)\u001b[0m\n\u001b[1;32m    312\u001b[0m \u001b[0;34m\u001b[0m\u001b[0m\n\u001b[1;32m    313\u001b[0m             \u001b[0;31m# LOOP OVER WHOLE REST OF THE DRAFT HERE...\u001b[0m\u001b[0;34m\u001b[0m\u001b[0;34m\u001b[0m\u001b[0;34m\u001b[0m\u001b[0m\n\u001b[0;32m--> 314\u001b[0;31m             \u001b[0mteams_loop\u001b[0m\u001b[0;34m,\u001b[0m \u001b[0mdf_loop\u001b[0m \u001b[0;34m=\u001b[0m \u001b[0mself\u001b[0m\u001b[0;34m.\u001b[0m\u001b[0mdraft_remaining\u001b[0m\u001b[0;34m(\u001b[0m\u001b[0mteams_loop\u001b[0m\u001b[0;34m,\u001b[0m \u001b[0mdf_loop\u001b[0m\u001b[0;34m,\u001b[0m \u001b[0mround_key\u001b[0m\u001b[0;34m,\u001b[0m \u001b[0mautodraft_depth\u001b[0m \u001b[0;34m=\u001b[0m \u001b[0mautodraft_depth\u001b[0m\u001b[0;34m)\u001b[0m\u001b[0;34m\u001b[0m\u001b[0;34m\u001b[0m\u001b[0m\n\u001b[0m\u001b[1;32m    315\u001b[0m \u001b[0;34m\u001b[0m\u001b[0m\n\u001b[1;32m    316\u001b[0m             \u001b[0;31m# Calculate the best pseudo-standings\u001b[0m\u001b[0;34m\u001b[0m\u001b[0;34m\u001b[0m\u001b[0;34m\u001b[0m\u001b[0m\n",
      "\u001b[0;32m~/Code/Git_Repositories/GameDay2021/GameDayFunctions/draft_2021.py\u001b[0m in \u001b[0;36mdraft_remaining\u001b[0;34m(self, teams_copy, df_copy, draft_round, autodraft_depth, shuffle_picks)\u001b[0m\n\u001b[1;32m    273\u001b[0m                 \u001b[0;32mif\u001b[0m \u001b[0msum\u001b[0m\u001b[0;34m(\u001b[0m\u001b[0mteams_copy\u001b[0m\u001b[0;34m[\u001b[0m\u001b[0miteam\u001b[0m\u001b[0;34m]\u001b[0m\u001b[0;34m[\u001b[0m\u001b[0;34m'roster_spots'\u001b[0m\u001b[0;34m]\u001b[0m\u001b[0;34m.\u001b[0m\u001b[0mvalues\u001b[0m\u001b[0;34m(\u001b[0m\u001b[0;34m)\u001b[0m\u001b[0;34m)\u001b[0m \u001b[0;34m==\u001b[0m \u001b[0;36m0\u001b[0m\u001b[0;34m:\u001b[0m\u001b[0;34m\u001b[0m\u001b[0;34m\u001b[0m\u001b[0m\n\u001b[1;32m    274\u001b[0m                     \u001b[0mpdb\u001b[0m\u001b[0;34m.\u001b[0m\u001b[0mset_trace\u001b[0m\u001b[0;34m(\u001b[0m\u001b[0;34m)\u001b[0m\u001b[0;34m\u001b[0m\u001b[0;34m\u001b[0m\u001b[0m\n\u001b[0;32m--> 275\u001b[0;31m                 \u001b[0mteams_copy\u001b[0m\u001b[0;34m,\u001b[0m \u001b[0mdf_copy\u001b[0m \u001b[0;34m=\u001b[0m \u001b[0mself\u001b[0m\u001b[0;34m.\u001b[0m\u001b[0mdraft_next_best\u001b[0m\u001b[0;34m(\u001b[0m\u001b[0miteam\u001b[0m\u001b[0;34m,\u001b[0m \u001b[0mteams_copy\u001b[0m\u001b[0;34m,\u001b[0m \u001b[0mdf_copy\u001b[0m\u001b[0;34m,\u001b[0m \u001b[0miround\u001b[0m\u001b[0;34m,\u001b[0m \u001b[0mshuffle_picks\u001b[0m \u001b[0;34m=\u001b[0m \u001b[0mshuffle_picks\u001b[0m\u001b[0;34m)\u001b[0m\u001b[0;34m\u001b[0m\u001b[0;34m\u001b[0m\u001b[0m\n\u001b[0m\u001b[1;32m    276\u001b[0m \u001b[0;34m\u001b[0m\u001b[0m\n\u001b[1;32m    277\u001b[0m         \u001b[0;32mreturn\u001b[0m \u001b[0mteams_copy\u001b[0m\u001b[0;34m,\u001b[0m \u001b[0mdf_copy\u001b[0m\u001b[0;34m\u001b[0m\u001b[0;34m\u001b[0m\u001b[0m\n",
      "\u001b[0;32m~/Code/Git_Repositories/GameDay2021/GameDayFunctions/draft_2021.py\u001b[0m in \u001b[0;36mdraft_next_best\u001b[0;34m(self, team_key, teams, df, round_number, force_pick, force_position, shuffle_picks, search_depth, silent)\u001b[0m\n\u001b[1;32m    483\u001b[0m                 \u001b[0mpdb\u001b[0m\u001b[0;34m.\u001b[0m\u001b[0mset_trace\u001b[0m\u001b[0;34m(\u001b[0m\u001b[0;34m)\u001b[0m\u001b[0;34m\u001b[0m\u001b[0;34m\u001b[0m\u001b[0m\n\u001b[1;32m    484\u001b[0m \u001b[0;34m\u001b[0m\u001b[0m\n\u001b[0;32m--> 485\u001b[0;31m             \u001b[0mteams\u001b[0m\u001b[0;34m[\u001b[0m\u001b[0mteam_key\u001b[0m\u001b[0;34m]\u001b[0m \u001b[0;34m=\u001b[0m \u001b[0mself\u001b[0m\u001b[0;34m.\u001b[0m\u001b[0mdraft_into_teams\u001b[0m\u001b[0;34m(\u001b[0m\u001b[0mteams\u001b[0m\u001b[0;34m[\u001b[0m\u001b[0mteam_key\u001b[0m\u001b[0;34m]\u001b[0m\u001b[0;34m,\u001b[0m \u001b[0mdrafted_player\u001b[0m\u001b[0;34m,\u001b[0m \u001b[0msilent\u001b[0m \u001b[0;34m=\u001b[0m \u001b[0;32mTrue\u001b[0m\u001b[0;34m)\u001b[0m\u001b[0;34m\u001b[0m\u001b[0;34m\u001b[0m\u001b[0m\n\u001b[0m\u001b[1;32m    486\u001b[0m             \u001b[0;32mif\u001b[0m \u001b[0msilent\u001b[0m \u001b[0;34m==\u001b[0m \u001b[0;32mFalse\u001b[0m\u001b[0;34m:\u001b[0m\u001b[0;34m\u001b[0m\u001b[0;34m\u001b[0m\u001b[0m\n\u001b[1;32m    487\u001b[0m                 \u001b[0mprint\u001b[0m\u001b[0;34m(\u001b[0m\u001b[0;34m'Team '\u001b[0m\u001b[0;34m+\u001b[0m \u001b[0mstr\u001b[0m\u001b[0;34m(\u001b[0m\u001b[0mteam_key\u001b[0m\u001b[0;34m+\u001b[0m\u001b[0;36m1\u001b[0m\u001b[0;34m)\u001b[0m \u001b[0;34m+\u001b[0m\u001b[0;34m' Drafting '\u001b[0m\u001b[0;34m+\u001b[0m\u001b[0mdrafted_player\u001b[0m\u001b[0;34m.\u001b[0m\u001b[0miloc\u001b[0m\u001b[0;34m[\u001b[0m\u001b[0;36m0\u001b[0m\u001b[0;34m]\u001b[0m\u001b[0;34m.\u001b[0m\u001b[0mPLAYER\u001b[0m\u001b[0;34m)\u001b[0m\u001b[0;34m\u001b[0m\u001b[0;34m\u001b[0m\u001b[0m\n",
      "\u001b[0;31mUnboundLocalError\u001b[0m: local variable 'drafted_player' referenced before assignment"
     ]
    },
    {
     "name": "stdout",
     "output_type": "stream",
     "text": [
      "CSV file exported.\n",
      "Finding Best Pick For Team 6\n",
      "> /Users/marcoviero/Code/Git_Repositories/GameDay2021/GameDayFunctions/draft_2021.py(275)draft_remaining()\n",
      "-> teams_copy, df_copy = self.draft_next_best(iteam, teams_copy, df_copy, iround, shuffle_picks = shuffle_picks)\n"
     ]
    },
    {
     "name": "stdin",
     "output_type": "stream",
     "text": [
      "(Pdb)  c\n"
     ]
    },
    {
     "name": "stdout",
     "output_type": "stream",
     "text": [
      "> /Users/marcoviero/Code/Git_Repositories/GameDay2021/GameDayFunctions/draft_2021.py(485)draft_next_best()\n",
      "-> teams[team_key] = self.draft_into_teams(teams[team_key], drafted_player, silent = True)\n"
     ]
    },
    {
     "name": "stdin",
     "output_type": "stream",
     "text": [
      "(Pdb)  c\n"
     ]
    },
    {
     "ename": "UnboundLocalError",
     "evalue": "local variable 'drafted_player' referenced before assignment",
     "output_type": "error",
     "traceback": [
      "\u001b[0;31m---------------------------------------------------------------------------\u001b[0m",
      "\u001b[0;31mUnboundLocalError\u001b[0m                         Traceback (most recent call last)",
      "\u001b[0;32m<ipython-input-3-3080cc796fb2>\u001b[0m in \u001b[0;36mmake_draft_pick\u001b[0;34m(self)\u001b[0m\n\u001b[1;32m     85\u001b[0m         \u001b[0mautodraft_depth\u001b[0m \u001b[0;34m=\u001b[0m \u001b[0;34m'end'\u001b[0m\u001b[0;34m\u001b[0m\u001b[0;34m\u001b[0m\u001b[0m\n\u001b[1;32m     86\u001b[0m         \u001b[0mdraft_pick_file\u001b[0m \u001b[0;34m=\u001b[0m \u001b[0mself\u001b[0m\u001b[0;34m.\u001b[0m\u001b[0mdraft_pick_file\u001b[0m\u001b[0;34m\u001b[0m\u001b[0;34m\u001b[0m\u001b[0m\n\u001b[0;32m---> 87\u001b[0;31m         \u001b[0mplayer_to_pick\u001b[0m\u001b[0;34m,\u001b[0m \u001b[0mprojected_roto_stats\u001b[0m \u001b[0;34m=\u001b[0m \u001b[0mself\u001b[0m\u001b[0;34m.\u001b[0m\u001b[0mgameday_df\u001b[0m\u001b[0;34m.\u001b[0m\u001b[0mdraft_from_list_and_find_best_pick\u001b[0m\u001b[0;34m(\u001b[0m\u001b[0msearch_depth\u001b[0m \u001b[0;34m=\u001b[0m \u001b[0;36m2\u001b[0m\u001b[0;34m,\u001b[0m \u001b[0mautodraft_depth\u001b[0m \u001b[0;34m=\u001b[0m \u001b[0mautodraft_depth\u001b[0m\u001b[0;34m,\u001b[0m \u001b[0mdraft_pick_file\u001b[0m \u001b[0;34m=\u001b[0m \u001b[0mdraft_pick_file\u001b[0m\u001b[0;34m)\u001b[0m\u001b[0;34m\u001b[0m\u001b[0;34m\u001b[0m\u001b[0m\n\u001b[0m\u001b[1;32m     88\u001b[0m \u001b[0;34m\u001b[0m\u001b[0m\n\u001b[1;32m     89\u001b[0m     \u001b[0;32mdef\u001b[0m \u001b[0mdisplay_sorted_picks\u001b[0m\u001b[0;34m(\u001b[0m\u001b[0mself\u001b[0m\u001b[0;34m)\u001b[0m\u001b[0;34m:\u001b[0m\u001b[0;34m\u001b[0m\u001b[0;34m\u001b[0m\u001b[0m\n",
      "\u001b[0;32m~/Code/Git_Repositories/GameDay2021/GameDayFunctions/draft_2021.py\u001b[0m in \u001b[0;36mdraft_from_list_and_find_best_pick\u001b[0;34m(self, search_depth, autodraft_depth, path_list, draft_pick_file, shuffle_picks, silent)\u001b[0m\n\u001b[1;32m    594\u001b[0m             \u001b[0mprint\u001b[0m\u001b[0;34m(\u001b[0m\u001b[0;34m'Finding Best Pick For Team '\u001b[0m\u001b[0;34m+\u001b[0m\u001b[0mstr\u001b[0m\u001b[0;34m(\u001b[0m\u001b[0miteam\u001b[0m\u001b[0;34m+\u001b[0m\u001b[0;36m1\u001b[0m\u001b[0;34m+\u001b[0m\u001b[0miter_team\u001b[0m\u001b[0;34m)\u001b[0m\u001b[0;34m)\u001b[0m\u001b[0;34m\u001b[0m\u001b[0;34m\u001b[0m\u001b[0m\n\u001b[1;32m    595\u001b[0m \u001b[0;34m\u001b[0m\u001b[0m\n\u001b[0;32m--> 596\u001b[0;31m         \u001b[0mbest_pick\u001b[0m\u001b[0;34m,\u001b[0m \u001b[0mbest_position\u001b[0m\u001b[0;34m,\u001b[0m \u001b[0mbest_placement\u001b[0m\u001b[0;34m,\u001b[0m \u001b[0mbest_score\u001b[0m \u001b[0;34m=\u001b[0m \u001b[0mself\u001b[0m\u001b[0;34m.\u001b[0m\u001b[0mfind_best_pick\u001b[0m\u001b[0;34m(\u001b[0m\u001b[0miteam\u001b[0m\u001b[0;34m+\u001b[0m\u001b[0miter_team\u001b[0m\u001b[0;34m,\u001b[0m\u001b[0mcopy\u001b[0m\u001b[0;34m.\u001b[0m\u001b[0mdeepcopy\u001b[0m\u001b[0;34m(\u001b[0m\u001b[0mteams_copy\u001b[0m\u001b[0;34m)\u001b[0m\u001b[0;34m,\u001b[0m\u001b[0mcopy\u001b[0m\u001b[0;34m.\u001b[0m\u001b[0mdeepcopy\u001b[0m\u001b[0;34m(\u001b[0m\u001b[0mdf_copy\u001b[0m\u001b[0;34m)\u001b[0m\u001b[0;34m,\u001b[0m\u001b[0miround\u001b[0m\u001b[0;34m,\u001b[0m\u001b[0msilent\u001b[0m\u001b[0;34m=\u001b[0m\u001b[0;32mFalse\u001b[0m\u001b[0;34m,\u001b[0m\u001b[0mautodraft_depth\u001b[0m \u001b[0;34m=\u001b[0m \u001b[0mautodraft_depth\u001b[0m\u001b[0;34m,\u001b[0m \u001b[0msearch_depth\u001b[0m \u001b[0;34m=\u001b[0m \u001b[0msearch_depth\u001b[0m\u001b[0;34m)\u001b[0m\u001b[0;34m\u001b[0m\u001b[0;34m\u001b[0m\u001b[0m\n\u001b[0m\u001b[1;32m    597\u001b[0m         \u001b[0mbest_player_this_round\u001b[0m \u001b[0;34m=\u001b[0m \u001b[0mdf_copy\u001b[0m\u001b[0;34m.\u001b[0m\u001b[0miloc\u001b[0m\u001b[0;34m[\u001b[0m\u001b[0mbest_pick\u001b[0m\u001b[0;34m-\u001b[0m\u001b[0;36m1\u001b[0m\u001b[0;34m]\u001b[0m\u001b[0;34m.\u001b[0m\u001b[0mPLAYER\u001b[0m\u001b[0;34m\u001b[0m\u001b[0;34m\u001b[0m\u001b[0m\n\u001b[1;32m    598\u001b[0m         \u001b[0mteams_copy\u001b[0m\u001b[0;34m,\u001b[0m \u001b[0mdf_copy\u001b[0m \u001b[0;34m=\u001b[0m \u001b[0mself\u001b[0m\u001b[0;34m.\u001b[0m\u001b[0mdraft_next_best\u001b[0m\u001b[0;34m(\u001b[0m\u001b[0miteam\u001b[0m\u001b[0;34m+\u001b[0m\u001b[0miter_team\u001b[0m\u001b[0;34m,\u001b[0m \u001b[0mteams_copy\u001b[0m\u001b[0;34m,\u001b[0m \u001b[0mdf_copy\u001b[0m\u001b[0;34m,\u001b[0m \u001b[0miround\u001b[0m\u001b[0;34m,\u001b[0m \u001b[0mforce_pick\u001b[0m \u001b[0;34m=\u001b[0m \u001b[0mbest_pick\u001b[0m\u001b[0;34m,\u001b[0m \u001b[0mforce_position\u001b[0m \u001b[0;34m=\u001b[0m \u001b[0mbest_position\u001b[0m\u001b[0;34m)\u001b[0m\u001b[0;34m\u001b[0m\u001b[0;34m\u001b[0m\u001b[0m\n",
      "\u001b[0;32m~/Code/Git_Repositories/GameDay2021/GameDayFunctions/draft_2021.py\u001b[0m in \u001b[0;36mfind_best_pick\u001b[0;34m(self, team_key, teams_copy, df_copy, round_key, search_depth, autodraft_depth, silent)\u001b[0m\n\u001b[1;32m    312\u001b[0m \u001b[0;34m\u001b[0m\u001b[0m\n\u001b[1;32m    313\u001b[0m             \u001b[0;31m# LOOP OVER WHOLE REST OF THE DRAFT HERE...\u001b[0m\u001b[0;34m\u001b[0m\u001b[0;34m\u001b[0m\u001b[0;34m\u001b[0m\u001b[0m\n\u001b[0;32m--> 314\u001b[0;31m             \u001b[0mteams_loop\u001b[0m\u001b[0;34m,\u001b[0m \u001b[0mdf_loop\u001b[0m \u001b[0;34m=\u001b[0m \u001b[0mself\u001b[0m\u001b[0;34m.\u001b[0m\u001b[0mdraft_remaining\u001b[0m\u001b[0;34m(\u001b[0m\u001b[0mteams_loop\u001b[0m\u001b[0;34m,\u001b[0m \u001b[0mdf_loop\u001b[0m\u001b[0;34m,\u001b[0m \u001b[0mround_key\u001b[0m\u001b[0;34m,\u001b[0m \u001b[0mautodraft_depth\u001b[0m \u001b[0;34m=\u001b[0m \u001b[0mautodraft_depth\u001b[0m\u001b[0;34m)\u001b[0m\u001b[0;34m\u001b[0m\u001b[0;34m\u001b[0m\u001b[0m\n\u001b[0m\u001b[1;32m    315\u001b[0m \u001b[0;34m\u001b[0m\u001b[0m\n\u001b[1;32m    316\u001b[0m             \u001b[0;31m# Calculate the best pseudo-standings\u001b[0m\u001b[0;34m\u001b[0m\u001b[0;34m\u001b[0m\u001b[0;34m\u001b[0m\u001b[0m\n",
      "\u001b[0;32m~/Code/Git_Repositories/GameDay2021/GameDayFunctions/draft_2021.py\u001b[0m in \u001b[0;36mdraft_remaining\u001b[0;34m(self, teams_copy, df_copy, draft_round, autodraft_depth, shuffle_picks)\u001b[0m\n\u001b[1;32m    273\u001b[0m                 \u001b[0;32mif\u001b[0m \u001b[0msum\u001b[0m\u001b[0;34m(\u001b[0m\u001b[0mteams_copy\u001b[0m\u001b[0;34m[\u001b[0m\u001b[0miteam\u001b[0m\u001b[0;34m]\u001b[0m\u001b[0;34m[\u001b[0m\u001b[0;34m'roster_spots'\u001b[0m\u001b[0;34m]\u001b[0m\u001b[0;34m.\u001b[0m\u001b[0mvalues\u001b[0m\u001b[0;34m(\u001b[0m\u001b[0;34m)\u001b[0m\u001b[0;34m)\u001b[0m \u001b[0;34m==\u001b[0m \u001b[0;36m0\u001b[0m\u001b[0;34m:\u001b[0m\u001b[0;34m\u001b[0m\u001b[0;34m\u001b[0m\u001b[0m\n\u001b[1;32m    274\u001b[0m                     \u001b[0mpdb\u001b[0m\u001b[0;34m.\u001b[0m\u001b[0mset_trace\u001b[0m\u001b[0;34m(\u001b[0m\u001b[0;34m)\u001b[0m\u001b[0;34m\u001b[0m\u001b[0;34m\u001b[0m\u001b[0m\n\u001b[0;32m--> 275\u001b[0;31m                 \u001b[0mteams_copy\u001b[0m\u001b[0;34m,\u001b[0m \u001b[0mdf_copy\u001b[0m \u001b[0;34m=\u001b[0m \u001b[0mself\u001b[0m\u001b[0;34m.\u001b[0m\u001b[0mdraft_next_best\u001b[0m\u001b[0;34m(\u001b[0m\u001b[0miteam\u001b[0m\u001b[0;34m,\u001b[0m \u001b[0mteams_copy\u001b[0m\u001b[0;34m,\u001b[0m \u001b[0mdf_copy\u001b[0m\u001b[0;34m,\u001b[0m \u001b[0miround\u001b[0m\u001b[0;34m,\u001b[0m \u001b[0mshuffle_picks\u001b[0m \u001b[0;34m=\u001b[0m \u001b[0mshuffle_picks\u001b[0m\u001b[0;34m)\u001b[0m\u001b[0;34m\u001b[0m\u001b[0;34m\u001b[0m\u001b[0m\n\u001b[0m\u001b[1;32m    276\u001b[0m \u001b[0;34m\u001b[0m\u001b[0m\n\u001b[1;32m    277\u001b[0m         \u001b[0;32mreturn\u001b[0m \u001b[0mteams_copy\u001b[0m\u001b[0;34m,\u001b[0m \u001b[0mdf_copy\u001b[0m\u001b[0;34m\u001b[0m\u001b[0;34m\u001b[0m\u001b[0m\n",
      "\u001b[0;32m~/Code/Git_Repositories/GameDay2021/GameDayFunctions/draft_2021.py\u001b[0m in \u001b[0;36mdraft_next_best\u001b[0;34m(self, team_key, teams, df, round_number, force_pick, force_position, shuffle_picks, search_depth, silent)\u001b[0m\n\u001b[1;32m    483\u001b[0m                 \u001b[0mpdb\u001b[0m\u001b[0;34m.\u001b[0m\u001b[0mset_trace\u001b[0m\u001b[0;34m(\u001b[0m\u001b[0;34m)\u001b[0m\u001b[0;34m\u001b[0m\u001b[0;34m\u001b[0m\u001b[0m\n\u001b[1;32m    484\u001b[0m \u001b[0;34m\u001b[0m\u001b[0m\n\u001b[0;32m--> 485\u001b[0;31m             \u001b[0mteams\u001b[0m\u001b[0;34m[\u001b[0m\u001b[0mteam_key\u001b[0m\u001b[0;34m]\u001b[0m \u001b[0;34m=\u001b[0m \u001b[0mself\u001b[0m\u001b[0;34m.\u001b[0m\u001b[0mdraft_into_teams\u001b[0m\u001b[0;34m(\u001b[0m\u001b[0mteams\u001b[0m\u001b[0;34m[\u001b[0m\u001b[0mteam_key\u001b[0m\u001b[0;34m]\u001b[0m\u001b[0;34m,\u001b[0m \u001b[0mdrafted_player\u001b[0m\u001b[0;34m,\u001b[0m \u001b[0msilent\u001b[0m \u001b[0;34m=\u001b[0m \u001b[0;32mTrue\u001b[0m\u001b[0;34m)\u001b[0m\u001b[0;34m\u001b[0m\u001b[0;34m\u001b[0m\u001b[0m\n\u001b[0m\u001b[1;32m    486\u001b[0m             \u001b[0;32mif\u001b[0m \u001b[0msilent\u001b[0m \u001b[0;34m==\u001b[0m \u001b[0;32mFalse\u001b[0m\u001b[0;34m:\u001b[0m\u001b[0;34m\u001b[0m\u001b[0;34m\u001b[0m\u001b[0m\n\u001b[1;32m    487\u001b[0m                 \u001b[0mprint\u001b[0m\u001b[0;34m(\u001b[0m\u001b[0;34m'Team '\u001b[0m\u001b[0;34m+\u001b[0m \u001b[0mstr\u001b[0m\u001b[0;34m(\u001b[0m\u001b[0mteam_key\u001b[0m\u001b[0;34m+\u001b[0m\u001b[0;36m1\u001b[0m\u001b[0;34m)\u001b[0m \u001b[0;34m+\u001b[0m\u001b[0;34m' Drafting '\u001b[0m\u001b[0;34m+\u001b[0m\u001b[0mdrafted_player\u001b[0m\u001b[0;34m.\u001b[0m\u001b[0miloc\u001b[0m\u001b[0;34m[\u001b[0m\u001b[0;36m0\u001b[0m\u001b[0;34m]\u001b[0m\u001b[0;34m.\u001b[0m\u001b[0mPLAYER\u001b[0m\u001b[0;34m)\u001b[0m\u001b[0;34m\u001b[0m\u001b[0;34m\u001b[0m\u001b[0m\n",
      "\u001b[0;31mUnboundLocalError\u001b[0m: local variable 'drafted_player' referenced before assignment"
     ]
    }
   ],
   "source": [
    "call_gameday2021_gui(zips, ranking='Yahoo')"
   ]
  },
  {
   "cell_type": "code",
   "execution_count": null,
   "metadata": {},
   "outputs": [],
   "source": []
  },
  {
   "cell_type": "code",
   "execution_count": null,
   "metadata": {},
   "outputs": [],
   "source": []
  },
  {
   "cell_type": "code",
   "execution_count": 1,
   "metadata": {},
   "outputs": [
    {
     "name": "stdout",
     "output_type": "stream",
     "text": [
      "--Return--\n",
      "> <ipython-input-1-a008ca4f97a3>(34)__init__()->None\n",
      "-> pdb.set_trace()\n"
     ]
    },
    {
     "name": "stdin",
     "output_type": "stream",
     "text": [
      "(Pdb)  c\n"
     ]
    },
    {
     "data": {
      "text/plain": [
       "0"
      ]
     },
     "execution_count": 1,
     "metadata": {},
     "output_type": "execute_result"
    }
   ],
   "source": [
    "import pdb\n",
    "import sys\n",
    "import pandas as pd\n",
    "import numpy as np\n",
    "from PyQt5 import QtCore, QtGui, QtWidgets\n",
    "from PyQt5.QtCore import Qt, QSortFilterProxyModel\n",
    "\n",
    "class TableModel(QtCore.QAbstractTableModel):\n",
    "    def __init__(self, data):\n",
    "        super(TableModel, self).__init__()\n",
    "        self._data = data\n",
    "\n",
    "    def data(self, index, role):\n",
    "        if role == Qt.DisplayRole:\n",
    "            # See below for the nested-list data structure.\n",
    "            # .row() indexes into the outer list,\n",
    "            # .column() indexes into the sub-list\n",
    "            pdb.set_trace()\n",
    "            return self._data[index.row()][index.column()]\n",
    "\n",
    "    def rowCount(self, index):\n",
    "        # The length of the outer list.\n",
    "        return len(self._data)\n",
    "\n",
    "    def columnCount(self, index):\n",
    "        # The following takes the first sub-list, and returns\n",
    "        # the length (only works if all rows are an equal length)\n",
    "        return len(self._data[0])\n",
    "\n",
    "class DataFrameModel(QtCore.QAbstractTableModel):\n",
    "    def __init__(self, df):\n",
    "        super(DataFrameModel, self).__init__()\n",
    "        self._df = df\n",
    "        pdb.set_trace()\n",
    "        #self.cellChanged[int, int].connect(self.updateDF)   \n",
    "\n",
    "    def data(self, index, role):\n",
    "        if role == Qt.DisplayRole:\n",
    "            # See below for the nested-list data structure.\n",
    "            # .row() indexes into the outer list,\n",
    "            # .column() indexes into the sub-list\n",
    "            return self._df.iloc[index.row()][index.column()]\n",
    "\n",
    "    def rowCount(self, index):\n",
    "        # The length of the outer list.\n",
    "        return np.shape(self._df)[0]\n",
    "\n",
    "    def columnCount(self, index):\n",
    "        # The following takes the first sub-list, and returns\n",
    "        # the length (only works if all rows are an equal length)\n",
    "        return np.shape(self._df)[1]   \n",
    "    \n",
    "    def updateDF(self, row, column):\n",
    "        text = self.item(row, column).text()\n",
    "        self.df.iloc[row, column] = text\n",
    "        #pdb.set_trace()\n",
    "        self.df = self.df.sort_values(by='Pick')[::-1]\n",
    "    \n",
    "    def flags(self, index):\n",
    "        if (index.column() == 0):\n",
    "            return QtCore.Qt.ItemIsEditable | QtCore.Qt.ItemIsEnabled\n",
    "        else:\n",
    "            return QtCore.Qt.ItemIsEnabled \n",
    "        \n",
    "class MainWindow(QtWidgets.QMainWindow):\n",
    "    def __init__(self):\n",
    "        super().__init__()\n",
    "        self.resize(900, 600)\n",
    "\n",
    "        self.table = QtWidgets.QTableView()\n",
    "\n",
    "        path = \"/Users/marcoviero/Code/Git_Repositories/GameDay2021/projections/2021/PositionalRankings/ESPN/ESPN_Roto_Ranking_2021.xlsx\"\n",
    "        df = pd.read_excel(path)\n",
    "        df['Pick'] = \"\"\n",
    "        df = df[['Pick', 'PLAYER', 'Elig. Pos.']]\n",
    "        \n",
    "        self.model = DataFrameModel(df)\n",
    "        #self.table.setModel(self.model)\n",
    "        self.proxyModel = QSortFilterProxyModel()\n",
    "        self.proxyModel.setSourceModel(self.model)\n",
    "\n",
    "        self.table.setSortingEnabled(True)\n",
    "\n",
    "        self.table.setModel(self.proxyModel)\n",
    "        self.setCentralWidget(self.table)\n",
    "\n",
    "\n",
    "app=QtWidgets.QApplication(sys.argv)\n",
    "window=MainWindow()\n",
    "window.show()\n",
    "app.exec_()"
   ]
  },
  {
   "cell_type": "code",
   "execution_count": null,
   "metadata": {},
   "outputs": [],
   "source": []
  },
  {
   "cell_type": "code",
   "execution_count": null,
   "metadata": {},
   "outputs": [],
   "source": []
  },
  {
   "cell_type": "code",
   "execution_count": 1,
   "metadata": {},
   "outputs": [
    {
     "ename": "KeyError",
     "evalue": "0",
     "output_type": "error",
     "traceback": [
      "\u001b[0;31m---------------------------------------------------------------------------\u001b[0m",
      "\u001b[0;31mKeyError\u001b[0m                                  Traceback (most recent call last)",
      "\u001b[0;32m~/opt/miniconda3/lib/python3.6/site-packages/pandas/core/indexes/base.py\u001b[0m in \u001b[0;36mget_loc\u001b[0;34m(self, key, method, tolerance)\u001b[0m\n\u001b[1;32m   2896\u001b[0m             \u001b[0;32mtry\u001b[0m\u001b[0;34m:\u001b[0m\u001b[0;34m\u001b[0m\u001b[0;34m\u001b[0m\u001b[0m\n\u001b[0;32m-> 2897\u001b[0;31m                 \u001b[0;32mreturn\u001b[0m \u001b[0mself\u001b[0m\u001b[0;34m.\u001b[0m\u001b[0m_engine\u001b[0m\u001b[0;34m.\u001b[0m\u001b[0mget_loc\u001b[0m\u001b[0;34m(\u001b[0m\u001b[0mkey\u001b[0m\u001b[0;34m)\u001b[0m\u001b[0;34m\u001b[0m\u001b[0;34m\u001b[0m\u001b[0m\n\u001b[0m\u001b[1;32m   2898\u001b[0m             \u001b[0;32mexcept\u001b[0m \u001b[0mKeyError\u001b[0m\u001b[0;34m:\u001b[0m\u001b[0;34m\u001b[0m\u001b[0;34m\u001b[0m\u001b[0m\n",
      "\u001b[0;32mpandas/_libs/index.pyx\u001b[0m in \u001b[0;36mpandas._libs.index.IndexEngine.get_loc\u001b[0;34m()\u001b[0m\n",
      "\u001b[0;32mpandas/_libs/index.pyx\u001b[0m in \u001b[0;36mpandas._libs.index.IndexEngine.get_loc\u001b[0;34m()\u001b[0m\n",
      "\u001b[0;32mpandas/_libs/hashtable_class_helper.pxi\u001b[0m in \u001b[0;36mpandas._libs.hashtable.PyObjectHashTable.get_item\u001b[0;34m()\u001b[0m\n",
      "\u001b[0;32mpandas/_libs/hashtable_class_helper.pxi\u001b[0m in \u001b[0;36mpandas._libs.hashtable.PyObjectHashTable.get_item\u001b[0;34m()\u001b[0m\n",
      "\u001b[0;31mKeyError\u001b[0m: 0",
      "\nDuring handling of the above exception, another exception occurred:\n",
      "\u001b[0;31mKeyError\u001b[0m                                  Traceback (most recent call last)",
      "\u001b[0;32m<ipython-input-1-223570413daa>\u001b[0m in \u001b[0;36mcolumnCount\u001b[0;34m(self, index)\u001b[0m\n\u001b[1;32m     71\u001b[0m         \u001b[0;31m# The following takes the first sub-list, and returns\u001b[0m\u001b[0;34m\u001b[0m\u001b[0;34m\u001b[0m\u001b[0;34m\u001b[0m\u001b[0m\n\u001b[1;32m     72\u001b[0m         \u001b[0;31m# the length (only works if all rows are an equal length)\u001b[0m\u001b[0;34m\u001b[0m\u001b[0;34m\u001b[0m\u001b[0;34m\u001b[0m\u001b[0m\n\u001b[0;32m---> 73\u001b[0;31m         \u001b[0;32mreturn\u001b[0m \u001b[0mlen\u001b[0m\u001b[0;34m(\u001b[0m\u001b[0mself\u001b[0m\u001b[0;34m.\u001b[0m\u001b[0m_data\u001b[0m\u001b[0;34m[\u001b[0m\u001b[0;36m0\u001b[0m\u001b[0;34m]\u001b[0m\u001b[0;34m)\u001b[0m\u001b[0;34m\u001b[0m\u001b[0;34m\u001b[0m\u001b[0m\n\u001b[0m\u001b[1;32m     74\u001b[0m \u001b[0;34m\u001b[0m\u001b[0m\n\u001b[1;32m     75\u001b[0m \u001b[0;32mclass\u001b[0m \u001b[0mDFEditor\u001b[0m\u001b[0;34m(\u001b[0m\u001b[0mQWidget\u001b[0m\u001b[0;34m)\u001b[0m\u001b[0;34m:\u001b[0m\u001b[0;34m\u001b[0m\u001b[0;34m\u001b[0m\u001b[0m\n",
      "\u001b[0;32m~/opt/miniconda3/lib/python3.6/site-packages/pandas/core/frame.py\u001b[0m in \u001b[0;36m__getitem__\u001b[0;34m(self, key)\u001b[0m\n\u001b[1;32m   2993\u001b[0m             \u001b[0;32mif\u001b[0m \u001b[0mself\u001b[0m\u001b[0;34m.\u001b[0m\u001b[0mcolumns\u001b[0m\u001b[0;34m.\u001b[0m\u001b[0mnlevels\u001b[0m \u001b[0;34m>\u001b[0m \u001b[0;36m1\u001b[0m\u001b[0;34m:\u001b[0m\u001b[0;34m\u001b[0m\u001b[0;34m\u001b[0m\u001b[0m\n\u001b[1;32m   2994\u001b[0m                 \u001b[0;32mreturn\u001b[0m \u001b[0mself\u001b[0m\u001b[0;34m.\u001b[0m\u001b[0m_getitem_multilevel\u001b[0m\u001b[0;34m(\u001b[0m\u001b[0mkey\u001b[0m\u001b[0;34m)\u001b[0m\u001b[0;34m\u001b[0m\u001b[0;34m\u001b[0m\u001b[0m\n\u001b[0;32m-> 2995\u001b[0;31m             \u001b[0mindexer\u001b[0m \u001b[0;34m=\u001b[0m \u001b[0mself\u001b[0m\u001b[0;34m.\u001b[0m\u001b[0mcolumns\u001b[0m\u001b[0;34m.\u001b[0m\u001b[0mget_loc\u001b[0m\u001b[0;34m(\u001b[0m\u001b[0mkey\u001b[0m\u001b[0;34m)\u001b[0m\u001b[0;34m\u001b[0m\u001b[0;34m\u001b[0m\u001b[0m\n\u001b[0m\u001b[1;32m   2996\u001b[0m             \u001b[0;32mif\u001b[0m \u001b[0mis_integer\u001b[0m\u001b[0;34m(\u001b[0m\u001b[0mindexer\u001b[0m\u001b[0;34m)\u001b[0m\u001b[0;34m:\u001b[0m\u001b[0;34m\u001b[0m\u001b[0;34m\u001b[0m\u001b[0m\n\u001b[1;32m   2997\u001b[0m                 \u001b[0mindexer\u001b[0m \u001b[0;34m=\u001b[0m \u001b[0;34m[\u001b[0m\u001b[0mindexer\u001b[0m\u001b[0;34m]\u001b[0m\u001b[0;34m\u001b[0m\u001b[0;34m\u001b[0m\u001b[0m\n",
      "\u001b[0;32m~/opt/miniconda3/lib/python3.6/site-packages/pandas/core/indexes/base.py\u001b[0m in \u001b[0;36mget_loc\u001b[0;34m(self, key, method, tolerance)\u001b[0m\n\u001b[1;32m   2897\u001b[0m                 \u001b[0;32mreturn\u001b[0m \u001b[0mself\u001b[0m\u001b[0;34m.\u001b[0m\u001b[0m_engine\u001b[0m\u001b[0;34m.\u001b[0m\u001b[0mget_loc\u001b[0m\u001b[0;34m(\u001b[0m\u001b[0mkey\u001b[0m\u001b[0;34m)\u001b[0m\u001b[0;34m\u001b[0m\u001b[0;34m\u001b[0m\u001b[0m\n\u001b[1;32m   2898\u001b[0m             \u001b[0;32mexcept\u001b[0m \u001b[0mKeyError\u001b[0m\u001b[0;34m:\u001b[0m\u001b[0;34m\u001b[0m\u001b[0;34m\u001b[0m\u001b[0m\n\u001b[0;32m-> 2899\u001b[0;31m                 \u001b[0;32mreturn\u001b[0m \u001b[0mself\u001b[0m\u001b[0;34m.\u001b[0m\u001b[0m_engine\u001b[0m\u001b[0;34m.\u001b[0m\u001b[0mget_loc\u001b[0m\u001b[0;34m(\u001b[0m\u001b[0mself\u001b[0m\u001b[0;34m.\u001b[0m\u001b[0m_maybe_cast_indexer\u001b[0m\u001b[0;34m(\u001b[0m\u001b[0mkey\u001b[0m\u001b[0;34m)\u001b[0m\u001b[0;34m)\u001b[0m\u001b[0;34m\u001b[0m\u001b[0;34m\u001b[0m\u001b[0m\n\u001b[0m\u001b[1;32m   2900\u001b[0m         \u001b[0mindexer\u001b[0m \u001b[0;34m=\u001b[0m \u001b[0mself\u001b[0m\u001b[0;34m.\u001b[0m\u001b[0mget_indexer\u001b[0m\u001b[0;34m(\u001b[0m\u001b[0;34m[\u001b[0m\u001b[0mkey\u001b[0m\u001b[0;34m]\u001b[0m\u001b[0;34m,\u001b[0m \u001b[0mmethod\u001b[0m\u001b[0;34m=\u001b[0m\u001b[0mmethod\u001b[0m\u001b[0;34m,\u001b[0m \u001b[0mtolerance\u001b[0m\u001b[0;34m=\u001b[0m\u001b[0mtolerance\u001b[0m\u001b[0;34m)\u001b[0m\u001b[0;34m\u001b[0m\u001b[0;34m\u001b[0m\u001b[0m\n\u001b[1;32m   2901\u001b[0m         \u001b[0;32mif\u001b[0m \u001b[0mindexer\u001b[0m\u001b[0;34m.\u001b[0m\u001b[0mndim\u001b[0m \u001b[0;34m>\u001b[0m \u001b[0;36m1\u001b[0m \u001b[0;32mor\u001b[0m \u001b[0mindexer\u001b[0m\u001b[0;34m.\u001b[0m\u001b[0msize\u001b[0m \u001b[0;34m>\u001b[0m \u001b[0;36m1\u001b[0m\u001b[0;34m:\u001b[0m\u001b[0;34m\u001b[0m\u001b[0;34m\u001b[0m\u001b[0m\n",
      "\u001b[0;32mpandas/_libs/index.pyx\u001b[0m in \u001b[0;36mpandas._libs.index.IndexEngine.get_loc\u001b[0;34m()\u001b[0m\n",
      "\u001b[0;32mpandas/_libs/index.pyx\u001b[0m in \u001b[0;36mpandas._libs.index.IndexEngine.get_loc\u001b[0;34m()\u001b[0m\n",
      "\u001b[0;32mpandas/_libs/hashtable_class_helper.pxi\u001b[0m in \u001b[0;36mpandas._libs.hashtable.PyObjectHashTable.get_item\u001b[0;34m()\u001b[0m\n",
      "\u001b[0;32mpandas/_libs/hashtable_class_helper.pxi\u001b[0m in \u001b[0;36mpandas._libs.hashtable.PyObjectHashTable.get_item\u001b[0;34m()\u001b[0m\n",
      "\u001b[0;31mKeyError\u001b[0m: 0"
     ]
    },
    {
     "ename": "TypeError",
     "evalue": "addWidget(self, QWidget, stretch: int = 0, alignment: Union[Qt.Alignment, Qt.AlignmentFlag] = Qt.Alignment()): argument 1 has unexpected type 'QSortFilterProxyModel'",
     "output_type": "error",
     "traceback": [
      "\u001b[0;31m---------------------------------------------------------------------------\u001b[0m",
      "\u001b[0;31mTypeError\u001b[0m                                 Traceback (most recent call last)",
      "\u001b[0;32m<ipython-input-1-223570413daa>\u001b[0m in \u001b[0;36m<module>\u001b[0;34m\u001b[0m\n\u001b[1;32m    128\u001b[0m     \u001b[0mapp\u001b[0m \u001b[0;34m=\u001b[0m \u001b[0mQApplication\u001b[0m\u001b[0;34m(\u001b[0m\u001b[0msys\u001b[0m\u001b[0;34m.\u001b[0m\u001b[0margv\u001b[0m\u001b[0;34m)\u001b[0m\u001b[0;34m\u001b[0m\u001b[0;34m\u001b[0m\u001b[0m\n\u001b[1;32m    129\u001b[0m \u001b[0;34m\u001b[0m\u001b[0m\n\u001b[0;32m--> 130\u001b[0;31m     \u001b[0mdemo\u001b[0m \u001b[0;34m=\u001b[0m \u001b[0mDFEditor\u001b[0m\u001b[0;34m(\u001b[0m\u001b[0;34m)\u001b[0m\u001b[0;34m\u001b[0m\u001b[0;34m\u001b[0m\u001b[0m\n\u001b[0m\u001b[1;32m    131\u001b[0m     \u001b[0mdemo\u001b[0m\u001b[0;34m.\u001b[0m\u001b[0mshow\u001b[0m\u001b[0;34m(\u001b[0m\u001b[0;34m)\u001b[0m\u001b[0;34m\u001b[0m\u001b[0;34m\u001b[0m\u001b[0m\n\u001b[1;32m    132\u001b[0m \u001b[0;34m\u001b[0m\u001b[0m\n",
      "\u001b[0;32m<ipython-input-1-223570413daa>\u001b[0m in \u001b[0;36m__init__\u001b[0;34m(self)\u001b[0m\n\u001b[1;32m     98\u001b[0m \u001b[0;34m\u001b[0m\u001b[0m\n\u001b[1;32m     99\u001b[0m         \u001b[0mself\u001b[0m\u001b[0;34m.\u001b[0m\u001b[0mtable\u001b[0m\u001b[0;34m.\u001b[0m\u001b[0msetModel\u001b[0m\u001b[0;34m(\u001b[0m\u001b[0mself\u001b[0m\u001b[0;34m.\u001b[0m\u001b[0mproxyModel\u001b[0m\u001b[0;34m)\u001b[0m\u001b[0;34m\u001b[0m\u001b[0;34m\u001b[0m\u001b[0m\n\u001b[0;32m--> 100\u001b[0;31m         \u001b[0mmainLayout\u001b[0m\u001b[0;34m.\u001b[0m\u001b[0maddWidget\u001b[0m\u001b[0;34m(\u001b[0m\u001b[0mself\u001b[0m\u001b[0;34m.\u001b[0m\u001b[0mproxyModel\u001b[0m\u001b[0;34m)\u001b[0m\u001b[0;34m\u001b[0m\u001b[0;34m\u001b[0m\u001b[0m\n\u001b[0m\u001b[1;32m    101\u001b[0m \u001b[0;34m\u001b[0m\u001b[0m\n\u001b[1;32m    102\u001b[0m         \u001b[0mbutton_print\u001b[0m \u001b[0;34m=\u001b[0m \u001b[0mQPushButton\u001b[0m\u001b[0;34m(\u001b[0m\u001b[0;34m'Sort Picks'\u001b[0m\u001b[0;34m)\u001b[0m\u001b[0;34m\u001b[0m\u001b[0;34m\u001b[0m\u001b[0m\n",
      "\u001b[0;31mTypeError\u001b[0m: addWidget(self, QWidget, stretch: int = 0, alignment: Union[Qt.Alignment, Qt.AlignmentFlag] = Qt.Alignment()): argument 1 has unexpected type 'QSortFilterProxyModel'"
     ]
    }
   ],
   "source": [
    "import pdb\n",
    "import sys\n",
    "import pandas as pd\n",
    "from PyQt5.QtWidgets import QApplication, QWidget, QTableWidget, QTableView, QTableWidgetItem, QHeaderView, QLineEdit, \\\n",
    "                            QPushButton, QItemDelegate, QVBoxLayout\n",
    "from PyQt5.QtCore import Qt, QSortFilterProxyModel, QAbstractTableModel\n",
    "from PyQt5.QtGui import QDoubleValidator\n",
    "\n",
    "class FloatDelegate(QItemDelegate):\n",
    "    def __init__(self, parent=None):\n",
    "        super().__init__()\n",
    "\n",
    "    def createEditor(self, parent, option, index):\n",
    "        editor = QLineEdit(parent)\n",
    "        editor.setValidator(QDoubleValidator())\n",
    "        return editor\n",
    "\n",
    "class TableWidget(QTableWidget):\n",
    "    def __init__(self, df):\n",
    "        super().__init__()\n",
    "        self.df = df\n",
    "        self.setStyleSheet('font-size: 18px;')\n",
    "\n",
    "        # set table dimension\n",
    "        nRows, nColumns = self.df.shape\n",
    "        self.setColumnCount(nColumns)\n",
    "        self.setRowCount(nRows)\n",
    "\n",
    "        self.setHorizontalHeaderLabels(('Pick', 'Player', 'Elig. Pos.'))\n",
    "        self.verticalHeader().setSectionResizeMode(QHeaderView.Stretch)\n",
    "        self.horizontalHeader().setSectionResizeMode(QHeaderView.Stretch)\n",
    "\n",
    "        self.setItemDelegateForColumn(1, FloatDelegate())\n",
    "\n",
    "        # data insertion\n",
    "        for i in range(self.rowCount()):\n",
    "            for j in range(self.columnCount()):\n",
    "                self.setItem(i, j, QTableWidgetItem(str(self.df.iloc[i, j])))\n",
    "\n",
    "        self.cellChanged[int, int].connect(self.updateDF)   \n",
    "\n",
    "    def updateDF(self, row, column):\n",
    "        text = self.item(row, column).text()\n",
    "        self.df.iloc[row, column] = text\n",
    "        #pdb.set_trace()\n",
    "        self.df = self.df.sort_values(by='Pick')[::-1]\n",
    "    \n",
    "    def flags(self, index):\n",
    "        if (index.column() == 0):\n",
    "            return QtCore.Qt.ItemIsEditable | QtCore.Qt.ItemIsEnabled\n",
    "        else:\n",
    "            return QtCore.Qt.ItemIsEnabled \n",
    "        \n",
    "class TableModel(QAbstractTableModel):\n",
    "    def __init__(self, data):\n",
    "        super(TableModel, self).__init__()\n",
    "        self._data = data\n",
    "\n",
    "    def data(self, index, role):\n",
    "        if role == DisplayRole:\n",
    "            # See below for the nested-list data structure.\n",
    "            # .row() indexes into the outer list,\n",
    "            # .column() indexes into the sub-list\n",
    "            return self._data[index.row()][index.column()]\n",
    "\n",
    "    def rowCount(self, index):\n",
    "        # The length of the outer list.\n",
    "        return len(self._data)\n",
    "\n",
    "    def columnCount(self, index):\n",
    "        # The following takes the first sub-list, and returns\n",
    "        # the length (only works if all rows are an equal length)\n",
    "        return len(self._data[0])\n",
    "    \n",
    "class DFEditor(QWidget):\n",
    "\n",
    "    path = \"/Users/marcoviero/Code/Git_Repositories/GameDay2021/projections/2021/PositionalRankings/ESPN/ESPN_Roto_Ranking_2021.xlsx\"\n",
    "    df = pd.read_excel(path)\n",
    "    df['Pick'] = \"\"\n",
    "    df = df[['Pick', 'PLAYER', 'Elig. Pos.']]\n",
    "        \n",
    "    def __init__(self):\n",
    "        super().__init__()\n",
    "        self.resize(900, 600)\n",
    "\n",
    "        mainLayout = QVBoxLayout()\n",
    "\n",
    "        #self.table = TableWidget(DFEditor.df)\n",
    "        #mainLayout.addWidget(self.table)\n",
    "\n",
    "        self.model = TableModel(DFEditor.df)\n",
    "        self.table = QTableView()\n",
    "\n",
    "        self.proxyModel = QSortFilterProxyModel()\n",
    "        self.proxyModel.setSourceModel(self.model)\n",
    "\n",
    "        self.table.setSortingEnabled(True)\n",
    "\n",
    "        self.table.setModel(self.proxyModel)\n",
    "        mainLayout.addWidget(self.proxyModel)\n",
    "    \n",
    "        button_print = QPushButton('Sort Picks')\n",
    "        button_print.setStyleSheet('font-size: 15px')\n",
    "        button_print.clicked.connect(self.display_sorted_picks)\n",
    "        mainLayout.addWidget(button_print)\n",
    "\n",
    "        button_export = QPushButton('Export to CSV file')\n",
    "        button_export.setStyleSheet('font-size: 15px')\n",
    "        button_export.clicked.connect(self.export_to_csv)\n",
    "        mainLayout.addWidget(button_export)     \n",
    "\n",
    "        self.setLayout(mainLayout)\n",
    "        \n",
    "    def display_sorted_picks(self):\n",
    "        # set table dimension\n",
    "        nRows, nColumns = self.df.shape\n",
    "        self.setColumnCount(nColumns)\n",
    "        self.setRowCount(nRows)\n",
    "        for i in range(self.rowCount()):\n",
    "            for j in range(self.columnCount()):\n",
    "                self.setItem(i, j, QTableWidgetItem(str(self.df.iloc[i, j])))\n",
    "                \n",
    "    def export_to_csv(self):\n",
    "        self.table.df.to_csv('Draft_pick_export.csv', index=False)\n",
    "        print('CSV file exported.')\n",
    "\n",
    "if __name__ == '__main__':\n",
    "    app = QApplication(sys.argv)\n",
    "\n",
    "    demo = DFEditor()\n",
    "    demo.show()\n",
    "    \n",
    "    sys.exit(app.exec_())"
   ]
  },
  {
   "cell_type": "code",
   "execution_count": 1,
   "metadata": {},
   "outputs": [
    {
     "ename": "NameError",
     "evalue": "name 'QtCore' is not defined",
     "output_type": "error",
     "traceback": [
      "\u001b[0;31m---------------------------------------------------------------------------\u001b[0m",
      "\u001b[0;31mNameError\u001b[0m                                 Traceback (most recent call last)",
      "\u001b[0;32m<ipython-input-1-79d98054226b>\u001b[0m in \u001b[0;36m<module>\u001b[0;34m\u001b[0m\n\u001b[0;32m----> 1\u001b[0;31m \u001b[0;32mclass\u001b[0m \u001b[0mTableModel\u001b[0m\u001b[0;34m(\u001b[0m\u001b[0mQtCore\u001b[0m\u001b[0;34m.\u001b[0m\u001b[0mQAbstractTableModel\u001b[0m\u001b[0;34m)\u001b[0m\u001b[0;34m:\u001b[0m\u001b[0;34m\u001b[0m\u001b[0;34m\u001b[0m\u001b[0m\n\u001b[0m\u001b[1;32m      2\u001b[0m     \u001b[0;32mdef\u001b[0m \u001b[0m__init__\u001b[0m\u001b[0;34m(\u001b[0m\u001b[0mself\u001b[0m\u001b[0;34m,\u001b[0m \u001b[0mparent\u001b[0m\u001b[0;34m=\u001b[0m\u001b[0;32mNone\u001b[0m\u001b[0;34m,\u001b[0m \u001b[0;34m*\u001b[0m\u001b[0margs\u001b[0m\u001b[0;34m)\u001b[0m\u001b[0;34m:\u001b[0m\u001b[0;34m\u001b[0m\u001b[0;34m\u001b[0m\u001b[0m\n\u001b[1;32m      3\u001b[0m         \u001b[0msuper\u001b[0m\u001b[0;34m(\u001b[0m\u001b[0mTableModel\u001b[0m\u001b[0;34m,\u001b[0m \u001b[0mself\u001b[0m\u001b[0;34m)\u001b[0m\u001b[0;34m.\u001b[0m\u001b[0m__init__\u001b[0m\u001b[0;34m(\u001b[0m\u001b[0;34m)\u001b[0m\u001b[0;34m\u001b[0m\u001b[0;34m\u001b[0m\u001b[0m\n\u001b[1;32m      4\u001b[0m         \u001b[0mself\u001b[0m\u001b[0;34m.\u001b[0m\u001b[0mdatatable\u001b[0m \u001b[0;34m=\u001b[0m \u001b[0;32mNone\u001b[0m\u001b[0;34m\u001b[0m\u001b[0;34m\u001b[0m\u001b[0m\n\u001b[1;32m      5\u001b[0m \u001b[0;34m\u001b[0m\u001b[0m\n",
      "\u001b[0;31mNameError\u001b[0m: name 'QtCore' is not defined"
     ]
    }
   ],
   "source": [
    "class TableModel(QtCore.QAbstractTableModel): \n",
    "    def __init__(self, parent=None, *args): \n",
    "        super(TableModel, self).__init__()\n",
    "        self.datatable = None\n",
    "\n",
    "    def update(self, dataIn):\n",
    "        print ('Updating Model')\n",
    "        self.datatable = dataIn\n",
    "        print ('Datatable : {0}'.format(self.datatable))\n",
    "\n",
    "    def rowCount(self, parent=QtCore.QModelIndex()):\n",
    "        return len(self.datatable.index) \n",
    "\n",
    "    def columnCount(self, parent=QtCore.QModelIndex()):\n",
    "        return len(self.datatable.columns.values) \n",
    "\n",
    "    def data(self, index, role=QtCore.Qt.DisplayRole):\n",
    "        if role == QtCore.Qt.DisplayRole:\n",
    "            i = index.row()\n",
    "            j = index.column()\n",
    "            return '{0}'.format(self.datatable.iget_value(i, j))\n",
    "        else:\n",
    "            return QtCore.QVariant()\n",
    "\n",
    "    def flags(self, index):\n",
    "        return QtCore.Qt.ItemIsEnabled"
   ]
  },
  {
   "cell_type": "code",
   "execution_count": 3,
   "metadata": {},
   "outputs": [],
   "source": [
    "class DataFrameModel(QtCore.QAbstractTableModel):\n",
    "    \n",
    "    DtypeRole = QtCore.Qt.UserRole + 1000\n",
    "    ValueRole = QtCore.Qt.UserRole + 1001\n",
    "\n",
    "    def __init__(self, df=pd.DataFrame(), parent=None):\n",
    "        super(DataFrameModel, self).__init__(parent)\n",
    "        #QtCore.QAbstractTableModel.flags(self, index) | \n",
    "        #QtCore.Qt.ItemIsEditable\n",
    "        self._dataframe = df\n",
    "\n",
    "    def setDataFrame(self, dataframe):\n",
    "        self.beginResetModel()\n",
    "        self._dataframe = dataframe.copy()\n",
    "        self.endResetModel()\n",
    "\n",
    "    def dataFrame(self):\n",
    "        return self._dataframe\n",
    "\n",
    "    dataFrame = QtCore.pyqtProperty(pd.DataFrame, fget=dataFrame, fset=setDataFrame)\n",
    "\n",
    "    @QtCore.pyqtSlot(int, QtCore.Qt.Orientation, result=str)\n",
    "    def headerData(self, section: int, orientation: QtCore.Qt.Orientation, role: int = QtCore.Qt.DisplayRole):\n",
    "        if role == QtCore.Qt.DisplayRole:\n",
    "            if orientation == QtCore.Qt.Horizontal:\n",
    "                return self._dataframe.columns[section]\n",
    "            else:\n",
    "                return str(self._dataframe.index[section])\n",
    "        return QtCore.QVariant()\n",
    "\n",
    "    def rowCount(self, parent=QtCore.QModelIndex()):\n",
    "        if parent.isValid():\n",
    "            return 0\n",
    "        return len(self._dataframe.index)\n",
    "\n",
    "    def columnCount(self, parent=QtCore.QModelIndex()):\n",
    "        if parent.isValid():\n",
    "            return 0\n",
    "        return self._dataframe.columns.size\n",
    "\n",
    "    def data(self, index, role=QtCore.Qt.DisplayRole):\n",
    "        if not index.isValid() or not (0 <= index.row() < self.rowCount() \\\n",
    "            and 0 <= index.column() < self.columnCount()):\n",
    "            return QtCore.QVariant()\n",
    "        row = self._dataframe.index[index.row()]\n",
    "        col = self._dataframe.columns[index.column()]\n",
    "        dt = self._dataframe[col].dtype\n",
    "\n",
    "        val = self._dataframe.iloc[row][col]\n",
    "        if role == QtCore.Qt.DisplayRole:\n",
    "            return str(val)\n",
    "        elif role == DataFrameModel.ValueRole:\n",
    "            return val\n",
    "        if role == DataFrameModel.DtypeRole:\n",
    "            return dt\n",
    "        return QtCore.QVariant()\n",
    "\n",
    "    def roleNames(self):\n",
    "        roles = {\n",
    "            QtCore.Qt.DisplayRole: b'display',\n",
    "            DataFrameModel.DtypeRole: b'dtype',\n",
    "            DataFrameModel.ValueRole: b'value'\n",
    "        }\n",
    "        return roles\n",
    "    \n",
    "    def flags(self, index):\n",
    "        if (index.column() == 0):\n",
    "            return QtCore.Qt.ItemIsEditable | QtCore.Qt.ItemIsEnabled\n",
    "        else:\n",
    "            return QtCore.Qt.ItemIsEnabled "
   ]
  },
  {
   "cell_type": "code",
   "execution_count": null,
   "metadata": {},
   "outputs": [],
   "source": []
  },
  {
   "cell_type": "code",
   "execution_count": null,
   "metadata": {},
   "outputs": [],
   "source": []
  },
  {
   "cell_type": "code",
   "execution_count": 2,
   "metadata": {},
   "outputs": [],
   "source": [
    "from PyQt5 import QtCore, QtGui, QtWidgets\n",
    "import pandas as pd\n",
    "class Ui_MainWindow(object):\n",
    "    def setupUi(self, MainWindow):\n",
    "        MainWindow.setObjectName(\"MainWindow\")\n",
    "        MainWindow.resize(662, 512)\n",
    "        self.centralwidget = QtWidgets.QWidget(MainWindow)\n",
    "        self.centralwidget.setObjectName(\"centralwidget\")\n",
    "        self.horizontalLayout = QtWidgets.QHBoxLayout(self.centralwidget)\n",
    "        self.horizontalLayout.setObjectName(\"horizontalLayout\")\n",
    "        self.verticalLayout = QtWidgets.QVBoxLayout()\n",
    "        self.verticalLayout.setObjectName(\"verticalLayout\")\n",
    "        #self.lineEdit = QtWidgets.QLineEdit(self.centralwidget)\n",
    "        #self.lineEdit.setObjectName(\"lineEdit\")\n",
    "        #self.lineEdit = QtWidgets.QLineEdit(\"/Users/marcoviero/Code/Git_Repositories/GameDay2021/projections/2021/PositionalRankings/ESPN/ESPN_Roto_Ranking_2021.xlsx\")\n",
    "        #self.lineEdit.selectAll()\n",
    "        #self.verticalLayout.addWidget(self.lineEdit)\n",
    "        #self.tableView = QtWidgets.QTableWidgetItem(self.centralwidget)\n",
    "        self.tableView = QtWidgets.QTableView(self.centralwidget)\n",
    "        self.tableView.setObjectName(\"tableView\")\n",
    "        self.verticalLayout.addWidget(self.tableView)\n",
    "        #self.tableView.setFlags(QtCore.Qt.ItemIsEditable | QtCore.Qt.ItemIsEnabled | QtCore.Qt.ItemIsSelectable)\n",
    "        self.pushButton = QtWidgets.QPushButton(self.centralwidget)\n",
    "        self.pushButton.setObjectName(\"pushButton\")\n",
    "        self.verticalLayout.addWidget(self.pushButton)\n",
    "        self.horizontalLayout.addLayout(self.verticalLayout)\n",
    "        MainWindow.setCentralWidget(self.centralwidget)\n",
    "        self.menubar = QtWidgets.QMenuBar(MainWindow)\n",
    "        self.menubar.setGeometry(QtCore.QRect(0, 0, 662, 21))\n",
    "        self.menubar.setObjectName(\"menubar\")\n",
    "        MainWindow.setMenuBar(self.menubar)\n",
    "        self.statusbar = QtWidgets.QStatusBar(MainWindow)\n",
    "        self.statusbar.setObjectName(\"statusbar\")\n",
    "        MainWindow.setStatusBar(self.statusbar)\n",
    "\n",
    "        self.retranslateUi(MainWindow)\n",
    "        QtCore.QMetaObject.connectSlotsByName(MainWindow)\n",
    "        \n",
    "        QtCore.Qt.ItemIsEditable | QtCore.Qt.ItemIsEnabled | QtCore.Qt.ItemIsSelectable\n",
    "\n",
    "    def retranslateUi(self, MainWindow):\n",
    "        _translate = QtCore.QCoreApplication.translate\n",
    "        MainWindow.setWindowTitle(_translate(\"MainWindow\", \"MainWindow\"))\n",
    "        self.pushButton.setText(_translate(\"MainWindow\", \"PushButton\"))\n",
    "        \n",
    "        self.lineEdit = QtWidgets.QLineEdit(\"/Users/marcoviero/Code/Git_Repositories/GameDay2021/projections/2021/PositionalRankings/ESPN/ESPN_Roto_Ranking_2021.xlsx\")\n",
    "        self.lineEdit.selectAll()\n",
    "\n",
    "        self.pushButton.clicked.connect(self.btn_clk)\n",
    "\n",
    "        MainWindow.show()\n",
    "\n",
    "    def btn_clk(self):\n",
    "        path = self.lineEdit.text()\n",
    "        df = pd.read_excel(path)\n",
    "        df['Pick'] = \"\"\n",
    "        df2 = df[['Pick', 'PLAYER', 'Elig. Pos.']]\n",
    "        self.model = DataFrameModel(df2)\n",
    "        #self.model = TableModel(df2)\n",
    "        self.tableView.setModel(self.model)\n",
    "\n",
    "        "
   ]
  },
  {
   "cell_type": "code",
   "execution_count": 3,
   "metadata": {},
   "outputs": [],
   "source": [
    "def launch_db_viewer():\n",
    "    app = QtWidgets.QApplication(sys.argv)\n",
    "    MainWindow = QtWidgets.QMainWindow()\n",
    "    ui = Ui_MainWindow()\n",
    "    ui.setupUi(MainWindow)\n",
    "    MainWindow.show()\n",
    "    sys.exit(app.exec_())"
   ]
  },
  {
   "cell_type": "raw",
   "metadata": {},
   "source": [
    "path = '/home/marcoviero/Repositories/GameDay2021/projections/2021/PositionalRankings/FantasyPros/FantasyPros_Roto_Ranking_2021.xlsx'\n",
    "path_mac = '/Users/marcoviero/Code/Git_Repositories/GameDay2021/projections/2021/PositionalRankings/ESPN/ESPN_Roto_Ranking_2021.xlsx'\n",
    "df = pd.read_excel(path)"
   ]
  },
  {
   "cell_type": "code",
   "execution_count": 4,
   "metadata": {},
   "outputs": [
    {
     "ename": "NameError",
     "evalue": "name 'DataFrameModel' is not defined",
     "output_type": "error",
     "traceback": [
      "\u001b[0;31m---------------------------------------------------------------------------\u001b[0m",
      "\u001b[0;31mNameError\u001b[0m                                 Traceback (most recent call last)",
      "\u001b[0;32m<ipython-input-2-c65a64044f02>\u001b[0m in \u001b[0;36mbtn_clk\u001b[0;34m(self)\u001b[0m\n\u001b[1;32m     56\u001b[0m         \u001b[0mdf\u001b[0m\u001b[0;34m[\u001b[0m\u001b[0;34m'Pick'\u001b[0m\u001b[0;34m]\u001b[0m \u001b[0;34m=\u001b[0m \u001b[0;34m\"\"\u001b[0m\u001b[0;34m\u001b[0m\u001b[0;34m\u001b[0m\u001b[0m\n\u001b[1;32m     57\u001b[0m         \u001b[0mdf2\u001b[0m \u001b[0;34m=\u001b[0m \u001b[0mdf\u001b[0m\u001b[0;34m[\u001b[0m\u001b[0;34m[\u001b[0m\u001b[0;34m'Pick'\u001b[0m\u001b[0;34m,\u001b[0m \u001b[0;34m'PLAYER'\u001b[0m\u001b[0;34m,\u001b[0m \u001b[0;34m'Elig. Pos.'\u001b[0m\u001b[0;34m]\u001b[0m\u001b[0;34m]\u001b[0m\u001b[0;34m\u001b[0m\u001b[0;34m\u001b[0m\u001b[0m\n\u001b[0;32m---> 58\u001b[0;31m         \u001b[0mself\u001b[0m\u001b[0;34m.\u001b[0m\u001b[0mmodel\u001b[0m \u001b[0;34m=\u001b[0m \u001b[0mDataFrameModel\u001b[0m\u001b[0;34m(\u001b[0m\u001b[0mdf2\u001b[0m\u001b[0;34m)\u001b[0m\u001b[0;34m\u001b[0m\u001b[0;34m\u001b[0m\u001b[0m\n\u001b[0m\u001b[1;32m     59\u001b[0m         \u001b[0;31m#self.model = TableModel(df2)\u001b[0m\u001b[0;34m\u001b[0m\u001b[0;34m\u001b[0m\u001b[0;34m\u001b[0m\u001b[0m\n\u001b[1;32m     60\u001b[0m         \u001b[0mself\u001b[0m\u001b[0;34m.\u001b[0m\u001b[0mtableView\u001b[0m\u001b[0;34m.\u001b[0m\u001b[0msetModel\u001b[0m\u001b[0;34m(\u001b[0m\u001b[0mself\u001b[0m\u001b[0;34m.\u001b[0m\u001b[0mmodel\u001b[0m\u001b[0;34m)\u001b[0m\u001b[0;34m\u001b[0m\u001b[0;34m\u001b[0m\u001b[0m\n",
      "\u001b[0;31mNameError\u001b[0m: name 'DataFrameModel' is not defined"
     ]
    },
    {
     "ename": "SystemExit",
     "evalue": "0",
     "output_type": "error",
     "traceback": [
      "An exception has occurred, use %tb to see the full traceback.\n",
      "\u001b[0;31mSystemExit\u001b[0m\u001b[0;31m:\u001b[0m 0\n"
     ]
    },
    {
     "name": "stderr",
     "output_type": "stream",
     "text": [
      "/Users/marcoviero/opt/miniconda3/lib/python3.6/site-packages/IPython/core/interactiveshell.py:3327: UserWarning: To exit: use 'exit', 'quit', or Ctrl-D.\n",
      "  warn(\"To exit: use 'exit', 'quit', or Ctrl-D.\", stacklevel=1)\n"
     ]
    }
   ],
   "source": [
    "launch_db_viewer()"
   ]
  },
  {
   "cell_type": "code",
   "execution_count": null,
   "metadata": {},
   "outputs": [],
   "source": []
  },
  {
   "cell_type": "code",
   "execution_count": null,
   "metadata": {},
   "outputs": [],
   "source": []
  },
  {
   "cell_type": "code",
   "execution_count": null,
   "metadata": {},
   "outputs": [],
   "source": []
  },
  {
   "cell_type": "code",
   "execution_count": null,
   "metadata": {},
   "outputs": [],
   "source": [
    "# Backup 1"
   ]
  },
  {
   "cell_type": "code",
   "execution_count": null,
   "metadata": {},
   "outputs": [],
   "source": [
    "class DataFrameModel(QtCore.QAbstractTableModel):\n",
    "    DtypeRole = QtCore.Qt.UserRole + 1000\n",
    "    ValueRole = QtCore.Qt.UserRole + 1001\n",
    "    QtCore.Qt.ItemIsEditable\n",
    "\n",
    "    def __init__(self, df=pd.DataFrame(), parent=None):\n",
    "        super(DataFrameModel, self).__init__(parent)\n",
    "        self._dataframe = df\n",
    "\n",
    "    def setDataFrame(self, dataframe):\n",
    "        self.beginResetModel()\n",
    "        self._dataframe = dataframe.copy()\n",
    "        self.endResetModel()\n",
    "\n",
    "    def dataFrame(self):\n",
    "        return self._dataframe\n",
    "\n",
    "    dataFrame = QtCore.pyqtProperty(pd.DataFrame, fget=dataFrame, fset=setDataFrame)\n",
    "\n",
    "    @QtCore.pyqtSlot(int, QtCore.Qt.Orientation, result=str)\n",
    "    def headerData(self, section: int, orientation: QtCore.Qt.Orientation, role: int = QtCore.Qt.DisplayRole):\n",
    "        if role == QtCore.Qt.DisplayRole:\n",
    "            if orientation == QtCore.Qt.Horizontal:\n",
    "                return self._dataframe.columns[section]\n",
    "            else:\n",
    "                return str(self._dataframe.index[section])\n",
    "        return QtCore.QVariant()\n",
    "\n",
    "    def rowCount(self, parent=QtCore.QModelIndex()):\n",
    "        if parent.isValid():\n",
    "            return 0\n",
    "        return len(self._dataframe.index)\n",
    "\n",
    "    def columnCount(self, parent=QtCore.QModelIndex()):\n",
    "        if parent.isValid():\n",
    "            return 0\n",
    "        return self._dataframe.columns.size\n",
    "\n",
    "    def data(self, index, role=QtCore.Qt.DisplayRole):\n",
    "        if not index.isValid() or not (0 <= index.row() < self.rowCount() \\\n",
    "            and 0 <= index.column() < self.columnCount()):\n",
    "            return QtCore.QVariant()\n",
    "        row = self._dataframe.index[index.row()]\n",
    "        col = self._dataframe.columns[index.column()]\n",
    "        dt = self._dataframe[col].dtype\n",
    "\n",
    "        val = self._dataframe.iloc[row][col]\n",
    "        if role == QtCore.Qt.DisplayRole:\n",
    "            return str(val)\n",
    "        elif role == DataFrameModel.ValueRole:\n",
    "            return val\n",
    "        if role == DataFrameModel.DtypeRole:\n",
    "            return dt\n",
    "        return QtCore.QVariant()\n",
    "\n",
    "    def roleNames(self):\n",
    "        roles = {\n",
    "            QtCore.Qt.DisplayRole: b'display',\n",
    "            DataFrameModel.DtypeRole: b'dtype',\n",
    "            DataFrameModel.ValueRole: b'value'\n",
    "        }\n",
    "        return roles\n"
   ]
  },
  {
   "cell_type": "code",
   "execution_count": null,
   "metadata": {},
   "outputs": [],
   "source": []
  },
  {
   "cell_type": "code",
   "execution_count": null,
   "metadata": {},
   "outputs": [],
   "source": [
    "from PyQt5 import QtCore, QtGui, QtWidgets\n",
    "import pandas as pd\n",
    "class Ui_MainWindow(object):\n",
    "    def setupUi(self, MainWindow):\n",
    "        MainWindow.setObjectName(\"MainWindow\")\n",
    "        MainWindow.resize(662, 512)\n",
    "        self.centralwidget = QtWidgets.QWidget(MainWindow)\n",
    "        self.centralwidget.setObjectName(\"centralwidget\")\n",
    "        self.horizontalLayout = QtWidgets.QHBoxLayout(self.centralwidget)\n",
    "        self.horizontalLayout.setObjectName(\"horizontalLayout\")\n",
    "        self.verticalLayout = QtWidgets.QVBoxLayout()\n",
    "        self.verticalLayout.setObjectName(\"verticalLayout\")\n",
    "        self.lineEdit = QtWidgets.QLineEdit(self.centralwidget)\n",
    "        self.lineEdit.setObjectName(\"lineEdit\")\n",
    "        self.verticalLayout.addWidget(self.lineEdit)\n",
    "        self.tableView = QtWidgets.QTableView(self.centralwidget)\n",
    "        self.tableView.setObjectName(\"tableView\")\n",
    "        self.verticalLayout.addWidget(self.tableView)\n",
    "        self.pushButton = QtWidgets.QPushButton(self.centralwidget)\n",
    "        self.pushButton.setObjectName(\"pushButton\")\n",
    "        self.verticalLayout.addWidget(self.pushButton)\n",
    "        self.horizontalLayout.addLayout(self.verticalLayout)\n",
    "        MainWindow.setCentralWidget(self.centralwidget)\n",
    "        self.menubar = QtWidgets.QMenuBar(MainWindow)\n",
    "        self.menubar.setGeometry(QtCore.QRect(0, 0, 662, 21))\n",
    "        self.menubar.setObjectName(\"menubar\")\n",
    "        MainWindow.setMenuBar(self.menubar)\n",
    "        self.statusbar = QtWidgets.QStatusBar(MainWindow)\n",
    "        self.statusbar.setObjectName(\"statusbar\")\n",
    "        MainWindow.setStatusBar(self.statusbar)\n",
    "\n",
    "        self.retranslateUi(MainWindow)\n",
    "        QtCore.QMetaObject.connectSlotsByName(MainWindow)\n",
    "\n",
    "    def retranslateUi(self, MainWindow):\n",
    "        _translate = QtCore.QCoreApplication.translate\n",
    "        MainWindow.setWindowTitle(_translate(\"MainWindow\", \"MainWindow\"))\n",
    "        self.pushButton.setText(_translate(\"MainWindow\", \"PushButton\"))\n",
    "\n",
    "\n",
    "        self.pushButton.clicked.connect(self.btn_clk)\n",
    "\n",
    "        MainWindow.show()\n",
    "\n",
    "    def btn_clk(self):\n",
    "        path = self.lineEdit.text()\n",
    "        df = pd.read_excel(path)\n",
    "        df2 = df[['RANK', 'PLAYER', 'Elig. Pos.']]\n",
    "        model = DataFrameModel(df2)\n",
    "        self.tableView.setModel(model)\n",
    "    '''\n",
    "    if __name__ == \"__main__\":\n",
    "        import sys\n",
    "        app = QtWidgets.QApplication(sys.argv)\n",
    "        MainWindow = QtWidgets.QMainWindow()\n",
    "        ui = Ui_MainWindow()\n",
    "        ui.setupUi(MainWindow)\n",
    "        MainWindow.show()\n",
    "        sys.exit(app.exec_())\n",
    "    '''"
   ]
  },
  {
   "cell_type": "code",
   "execution_count": null,
   "metadata": {},
   "outputs": [],
   "source": [
    "def launch_db_viewer():\n",
    "    app = QtWidgets.QApplication(sys.argv)\n",
    "    MainWindow = QtWidgets.QMainWindow()\n",
    "    ui = Ui_MainWindow()\n",
    "    ui.setupUi(MainWindow)\n",
    "    MainWindow.show()\n",
    "    sys.exit(app.exec_())"
   ]
  },
  {
   "cell_type": "code",
   "execution_count": null,
   "metadata": {},
   "outputs": [],
   "source": []
  },
  {
   "cell_type": "code",
   "execution_count": null,
   "metadata": {},
   "outputs": [],
   "source": []
  },
  {
   "cell_type": "code",
   "execution_count": null,
   "metadata": {},
   "outputs": [],
   "source": []
  },
  {
   "cell_type": "code",
   "execution_count": null,
   "metadata": {},
   "outputs": [],
   "source": [
    "from PyQt5.QtWidgets import QTableWidget,QTableWidgetItem\n",
    "\n",
    "self.tableWidget = QTableWidget()\n",
    "\n",
    "# set row count\n",
    "self.tableWidget.setRowCount(4)\n",
    "\n",
    "# set column count\n",
    "self.tableWidget.setColumnCount(2)"
   ]
  },
  {
   "cell_type": "code",
   "execution_count": null,
   "metadata": {},
   "outputs": [],
   "source": [
    "import sys\n",
    "from PyQt5 import QtCore, QtGui, QtWidgets\n",
    "\n",
    "class Window(QtWidgets.QMainWindow):\n",
    "\n",
    "    def __init__(self):\n",
    "        super(Window, self).__init__()\n",
    "        self.setGeometry(50, 50, 500, 300)\n",
    "        self.setWindowTitle(\"PyQT tuts!\")\n",
    "        self.setWindowIcon(QtGui.QIcon('pythonlogo.png'))\n",
    "\n",
    "        extractAction = QtWidgets.QAction(\"&GET TO THE CHOPPAH!!!\", self)\n",
    "        extractAction.setShortcut(\"Ctrl+Q\")\n",
    "        extractAction.setStatusTip('Leave The App')\n",
    "        extractAction.triggered.connect(self.close_application)\n",
    "\n",
    "        openEditor = QtWidgets.QAction(\"&Editor\", self)\n",
    "        openEditor.setShortcut(\"Ctrl+E\")\n",
    "        openEditor.setStatusTip('Open Editor')\n",
    "        openEditor.triggered.connect(self.editor)\n",
    "\n",
    "        openFile = QtWidgets.QAction(\"&Open File\", self)\n",
    "        openFile.setShortcut(\"Ctrl+O\")\n",
    "        openFile.setStatusTip('Open File')\n",
    "        openFile.triggered.connect(self.file_open)\n",
    "\n",
    "        self.statusBar()\n",
    "\n",
    "        mainMenu = self.menuBar()\n",
    "        \n",
    "        fileMenu = mainMenu.addMenu('&File')\n",
    "        fileMenu.addAction(extractAction)\n",
    "        fileMenu.addAction(openFile)\n",
    "        \n",
    "        editorMenu = mainMenu.addMenu(\"&Editor\")\n",
    "        editorMenu.addAction(openEditor)\n",
    "\n",
    "        self.home()\n",
    "\n",
    "    def home(self):\n",
    "        btn = QtWidgets.QPushButton(\"Quit\", self)\n",
    "        btn.clicked.connect(self.close_application)\n",
    "        btn.resize(btn.minimumSizeHint())\n",
    "        btn.move(0,100)\n",
    "\n",
    "        extractAction = QtWidgets.QAction(QtGui.QIcon('todachoppa.png'), 'Flee the Scene', self)\n",
    "        extractAction.triggered.connect(self.close_application)\n",
    "        self.toolBar = self.addToolBar(\"Extraction\")\n",
    "        self.toolBar.addAction(extractAction)\n",
    "\n",
    "        fontChoice = QtWidgets.QAction('Font', self)\n",
    "        fontChoice.triggered.connect(self.font_choice)\n",
    "        #self.toolBar = self.addToolBar(\"Font\")\n",
    "        self.toolBar.addAction(fontChoice)\n",
    "\n",
    "        color = QtGui.QColor(0, 0, 0)\n",
    "\n",
    "        fontColor = QtWidgets.QAction('Font bg Color', self)\n",
    "        fontColor.triggered.connect(self.color_picker)\n",
    "\n",
    "        self.toolBar.addAction(fontColor)\n",
    "\n",
    "        checkBox = QtWidgets.QCheckBox('Enlarge Window', self)\n",
    "        checkBox.move(300, 25)\n",
    "        checkBox.stateChanged.connect(self.enlarge_window)\n",
    "\n",
    "        self.progress = QtWidgets.QProgressBar(self)\n",
    "        self.progress.setGeometry(200, 80, 250, 20)\n",
    "\n",
    "        self.btn = QtWidgets.QPushButton(\"Download\",self)\n",
    "        self.btn.move(200,120)\n",
    "        self.btn.clicked.connect(self.download)\n",
    "\n",
    "        #print(self.style().objectName())\n",
    "        self.styleChoice = QtWidgets.QLabel(\"Windows Vista\", self)\n",
    "\n",
    "        comboBox = QtWidgets.QComboBox(self)\n",
    "        comboBox.addItem(\"motif\")\n",
    "        comboBox.addItem(\"Windows\")\n",
    "        comboBox.addItem(\"cde\")\n",
    "        comboBox.addItem(\"Plastique\")\n",
    "        comboBox.addItem(\"Cleanlooks\")\n",
    "        comboBox.addItem(\"windowsvista\")\n",
    "\n",
    "        comboBox.move(50, 250)\n",
    "        self.styleChoice.move(50,150)\n",
    "        comboBox.activated[str].connect(self.style_choice)\n",
    "\n",
    "        cal = QtWidgets.QCalendarWidget(self)\n",
    "        cal.move(500,200)\n",
    "        cal.resize(200,200)\n",
    "\n",
    "        self.show()\n",
    "\n",
    "    def file_open(self):\n",
    "        name = QtWidgets.QFileDialog.getOpenFileName(self, 'Open File')\n",
    "        file = open(name,'r')\n",
    "\n",
    "        self.editor()\n",
    "\n",
    "        with file:\n",
    "            text = file.read()\n",
    "            self.textEdit.setText(text)\n",
    "\n",
    "    def color_picker(self):\n",
    "        color = QtWidgets.QColorDialog.getColor()\n",
    "        self.styleChoice.setStyleSheet(\"QWidget { background-color: %s}\" % color.name())\n",
    "\n",
    "    def editor(self):\n",
    "        self.textEdit = QtWidgets.QTextEdit()\n",
    "        self.setCentralWidget(self.textEdit)\n",
    "\n",
    "\n",
    "    def font_choice(self):\n",
    "        font, valid = QtWidgets.QFontDialog.getFont()\n",
    "        if valid:\n",
    "            self.styleChoice.setFont(font)\n",
    "\n",
    "    def style_choice(self, text):\n",
    "        self.styleChoice.setText(text)\n",
    "        QtWidgets.QApplication.setStyle(QtWidgets.QStyleFactory.create(text))\n",
    "\n",
    "    def download(self):\n",
    "        self.completed = 0\n",
    "\n",
    "        while self.completed < 100:\n",
    "            self.completed += 0.0001\n",
    "            self.progress.setValue(self.completed)  \n",
    "\n",
    "    def enlarge_window(self, state):\n",
    "        if state == QtCore.Qt.Checked:\n",
    "            self.setGeometry(50,50, 1000, 600)\n",
    "        else:\n",
    "            self.setGeometry(50, 50, 500, 300)\n",
    "        \n",
    "\n",
    "    def close_application(self):\n",
    "        choice = QtWidgets.QMessageBox.question(self, 'Extract!',\n",
    "                                            \"Get into the chopper?\",\n",
    "                                            QtWidgets.QMessageBox.Yes | QtWidgets.QMessageBox.No)\n",
    "        if choice == QtWidgets.QMessageBox.Yes:\n",
    "            print(\"Extracting Naaaaaaoooww!!!!\")\n",
    "            sys.exit()\n",
    "        else:\n",
    "            pass\n",
    "        \n",
    "        \n",
    "\n",
    "    \n",
    "def run():\n",
    "    app = QtWidgets.QApplication(sys.argv)\n",
    "    GUI = Window()\n",
    "    sys.exit(app.exec_())\n",
    "\n",
    "\n",
    "run()   "
   ]
  },
  {
   "cell_type": "code",
   "execution_count": null,
   "metadata": {},
   "outputs": [],
   "source": [
    "# Load packages.  Must have pandas and numpy.  \n",
    "\n",
    "import pdb\n",
    "import os\n",
    "import sys\n",
    "import pandas as pd\n",
    "pd.options.mode.chained_assignment = None\n",
    "import numpy as np\n",
    "import copy\n",
    "from PyQt5.QtCore import *\n",
    "from PyQt5.QtGui import *\n",
    "from PyQt5.QtWidgets import *\n",
    "\n",
    "from GameDayFunctions.fangraphs_projection_2021 import Projection\n",
    "from GameDayFunctions.draft_2021 import Draft"
   ]
  },
  {
   "cell_type": "code",
   "execution_count": null,
   "metadata": {},
   "outputs": [],
   "source": [
    "class DraftWindow(QTableWidget):\n",
    "    __init__(self, parent = None):\n",
    "        super(DraftWindow,self).__init__(parent)\n",
    "        "
   ]
  },
  {
   "cell_type": "code",
   "execution_count": null,
   "metadata": {},
   "outputs": [],
   "source": [
    "autodraft_depth = 'end'\n",
    "search_depth = 2\n",
    "year = 2021\n",
    "path_data = \"projections/\"\n",
    "path_drafts = \"Draft_Pick_Spreadsheets/\"\n",
    "shuffle_picks = True\n",
    "ranking_method = 'FantasyPros'"
   ]
  },
  {
   "cell_type": "markdown",
   "metadata": {},
   "source": [
    "First need a **Projection** object.  Projections are scraped from [Fangraphs](https://www.fangraphs.com/projections.aspx?pos=all&stats=bat&type=zips), and include ZiPS, Steamer, and TheBat.  \n",
    "In this example I create a dictionary of the three projections.  "
   ]
  },
  {
   "cell_type": "code",
   "execution_count": null,
   "metadata": {},
   "outputs": [],
   "source": [
    "player_ranking_zips = Projection(path_data=path_data,year=year,model='ZiPS',ranking_method = ranking_method)\n",
    "player_ranking_steam = Projection(path_data=path_data,year=year,model='Steamer',ranking_method = ranking_method)\n",
    "player_ranking_thebat = Projection(path_data=path_data,year=year,model='TheBat',ranking_method = ranking_method)\n",
    "player_rankings = {\"ZiPS\":player_ranking_zips, \"Steamer\":player_ranking_steam, \"TheBat\":player_ranking_thebat}"
   ]
  },
  {
   "cell_type": "markdown",
   "metadata": {},
   "source": [
    "Enter your roto-league-specific stats.  The default settings are shown here.  "
   ]
  },
  {
   "cell_type": "code",
   "execution_count": null,
   "metadata": {},
   "outputs": [],
   "source": [
    "number_teams = 12\n",
    "roster_spots = {'C':1,'1B':1,'2B':1, '3B':1,'SS':1,'OF':3,'UTIL':1,'SP':2,'RP':2,'P':3,'BN':1}\n",
    "batter_stats  = ['AB','R','1B','2B', '3B','HR','RBI','SB','BB','AVG','OPS']\n",
    "pitcher_stats = ['IP','W', 'L','CG','SHO','SV','BB','SO','ERA','WHIP','BSV'] \n",
    "draft_position = 6\n",
    "\n",
    "# Choose the projection system you prefer ()\n",
    "zips_6 = Draft(player_rankings['ZiPS'], draft_position = draft_position, number_teams = number_teams,roster_spots = roster_spots,batter_stats = batter_stats,pitcher_stats = pitcher_stats)\n",
    "steamer_6 = Draft(player_rankings['Steamer'], draft_position = draft_position, number_teams = number_teams,roster_spots = roster_spots,batter_stats = batter_stats,pitcher_stats = pitcher_stats)\n",
    "thebat_6 = Draft(player_rankings['TheBat'], draft_position = draft_position, number_teams = number_teams,roster_spots = roster_spots,batter_stats = batter_stats,pitcher_stats = pitcher_stats)"
   ]
  },
  {
   "cell_type": "markdown",
   "metadata": {},
   "source": [
    "To use while drafting in real-time, simply record the draft results in a spreadsheet (.xlsx, so if you're using Numbers, need to export to Excel) and run the cell. \n",
    "\n",
    "Examples below show results for after 2, 3, and 4 rounds.  Notice that at each stage the projected placement in the standings improves.  "
   ]
  },
  {
   "cell_type": "code",
   "execution_count": null,
   "metadata": {},
   "outputs": [],
   "source": [
    "# Example pick in the 1st round\n",
    "\n",
    "draft_pick_file = 'MockDraftFP_Round_1.xlsx'\n",
    "player_to_pick, projected_roto_stats = zips_6.draft_from_list_and_find_best_pick(search_depth = 2, autodraft_depth = autodraft_depth, draft_pick_file = draft_pick_file)"
   ]
  },
  {
   "cell_type": "code",
   "execution_count": null,
   "metadata": {},
   "outputs": [],
   "source": [
    "# Example pick in the 1st round\n",
    "\n",
    "draft_pick_file = 'MockDraftFP_Round_1.xlsx'\n",
    "player_to_pick, projected_roto_stats = steamer_6.draft_from_list_and_find_best_pick(search_depth = 2, autodraft_depth = autodraft_depth, draft_pick_file = draft_pick_file)"
   ]
  },
  {
   "cell_type": "code",
   "execution_count": null,
   "metadata": {},
   "outputs": [],
   "source": [
    "# Example pick in the 2nd round\n",
    "draft_pick_file = 'MockDraftFP_Round_2.xlsx'\n",
    "player_to_pick, projected_roto_stats = zips_6.draft_from_list_and_find_best_pick(search_depth = 2, autodraft_depth = autodraft_depth, draft_pick_file = draft_pick_file)"
   ]
  },
  {
   "cell_type": "code",
   "execution_count": null,
   "metadata": {},
   "outputs": [],
   "source": [
    "# Example pick in the 2nd round\n",
    "draft_pick_file = 'MockDraftFP_Round_2.xlsx'\n",
    "player_to_pick, projected_roto_stats = steamer_6.draft_from_list_and_find_best_pick(search_depth = 3, autodraft_depth = autodraft_depth, draft_pick_file = draft_pick_file)"
   ]
  },
  {
   "cell_type": "code",
   "execution_count": null,
   "metadata": {},
   "outputs": [],
   "source": [
    "# Example pick in the 3rd round\n",
    "\n",
    "draft_pick_file = 'MockDraftFP_Round_3.xlsx'\n",
    "player_to_pick, projected_roto_stats = zips_6.draft_from_list_and_find_best_pick(search_depth = 3, autodraft_depth = autodraft_depth, draft_pick_file = draft_pick_file)"
   ]
  },
  {
   "cell_type": "code",
   "execution_count": null,
   "metadata": {},
   "outputs": [],
   "source": [
    "# Example pick in the 3rd round\n",
    "\n",
    "draft_pick_file = 'MockDraftFP_Round_3.xlsx'\n",
    "player_to_pick, projected_roto_stats = steamer_6.draft_from_list_and_find_best_pick(search_depth = 3, autodraft_depth = autodraft_depth, draft_pick_file = draft_pick_file)"
   ]
  },
  {
   "cell_type": "code",
   "execution_count": null,
   "metadata": {},
   "outputs": [],
   "source": [
    "# Example pick in the 4nd round\n",
    "\n",
    "draft_pick_file = 'MockDraftFP_Round_4.xlsx'\n",
    "player_to_pick, projected_roto_stats = zips_6.draft_from_list_and_find_best_pick(search_depth = 4, autodraft_depth = autodraft_depth, draft_pick_file = draft_pick_file)"
   ]
  },
  {
   "cell_type": "code",
   "execution_count": null,
   "metadata": {},
   "outputs": [],
   "source": [
    "# Example pick in the 4nd round\n",
    "\n",
    "draft_pick_file = 'MockDraftFP_Round_4.xlsx'\n",
    "player_to_pick, projected_roto_stats = steamer_6.draft_from_list_and_find_best_pick(search_depth = 4, autodraft_depth = autodraft_depth, draft_pick_file = draft_pick_file)"
   ]
  },
  {
   "cell_type": "code",
   "execution_count": null,
   "metadata": {},
   "outputs": [],
   "source": [
    "# Example pick in the 5th round\n",
    "\n",
    "draft_pick_file = 'MockDraftFP_Round_5.xlsx'\n",
    "player_to_pick, projected_roto_stats = zips_6.draft_from_list_and_find_best_pick(search_depth = 4, autodraft_depth = autodraft_depth, draft_pick_file = draft_pick_file)"
   ]
  },
  {
   "cell_type": "code",
   "execution_count": null,
   "metadata": {},
   "outputs": [],
   "source": [
    "# Example pick in the 5th round\n",
    "\n",
    "draft_pick_file = 'MockDraftFP_Round_5.xlsx'\n",
    "player_to_pick, projected_roto_stats = steamer_6.draft_from_list_and_find_best_pick(search_depth = 4, autodraft_depth = autodraft_depth, draft_pick_file = draft_pick_file)"
   ]
  },
  {
   "cell_type": "code",
   "execution_count": null,
   "metadata": {},
   "outputs": [],
   "source": [
    "# Example pick in the 5th round\n",
    "\n",
    "draft_pick_file = 'MockDraftFP_Round_5.xlsx'\n",
    "player_to_pick, projected_roto_stats = thebat_6.draft_from_list_and_find_best_pick(search_depth = 4, autodraft_depth = autodraft_depth, draft_pick_file = draft_pick_file)"
   ]
  },
  {
   "cell_type": "code",
   "execution_count": null,
   "metadata": {},
   "outputs": [],
   "source": [
    "# Example pick in the 6th round\n",
    "\n",
    "draft_pick_file = 'MockDraftFP_Round_6.xlsx'\n",
    "player_to_pick, projected_roto_stats = zips_6.draft_from_list_and_find_best_pick(search_depth = 4, autodraft_depth = autodraft_depth, draft_pick_file = draft_pick_file)"
   ]
  },
  {
   "cell_type": "code",
   "execution_count": null,
   "metadata": {},
   "outputs": [],
   "source": [
    "# Example pick in the 6th round\n",
    "\n",
    "draft_pick_file = 'MockDraftFP_Round_6.xlsx'\n",
    "player_to_pick, projected_roto_stats = steamer_6.draft_from_list_and_find_best_pick(search_depth = 4, autodraft_depth = autodraft_depth, draft_pick_file = draft_pick_file)"
   ]
  },
  {
   "cell_type": "code",
   "execution_count": null,
   "metadata": {},
   "outputs": [],
   "source": [
    "# Example pick in the 6th round\n",
    "\n",
    "draft_pick_file = 'MockDraftFP_Round_6.xlsx'\n",
    "player_to_pick, projected_roto_stats = thebat_6.draft_from_list_and_find_best_pick(search_depth = 4, autodraft_depth = autodraft_depth, draft_pick_file = draft_pick_file)"
   ]
  },
  {
   "cell_type": "code",
   "execution_count": null,
   "metadata": {},
   "outputs": [],
   "source": [
    "# Example pick in the 7th round\n",
    "\n",
    "draft_pick_file = 'MockDraftFP_Round_7.xlsx'\n",
    "player_to_pick, projected_roto_stats = zips_6.draft_from_list_and_find_best_pick(search_depth = 4, autodraft_depth = autodraft_depth, draft_pick_file = draft_pick_file)"
   ]
  },
  {
   "cell_type": "code",
   "execution_count": null,
   "metadata": {},
   "outputs": [],
   "source": [
    "# Example pick in the 7th round\n",
    "\n",
    "draft_pick_file = 'MockDraftFP_Round_7.xlsx'\n",
    "player_to_pick, projected_roto_stats = steamer_6.draft_from_list_and_find_best_pick(search_depth = 4, autodraft_depth = autodraft_depth, draft_pick_file = draft_pick_file)"
   ]
  },
  {
   "cell_type": "code",
   "execution_count": null,
   "metadata": {},
   "outputs": [],
   "source": [
    "# Example pick in the 7th round\n",
    "\n",
    "draft_pick_file = 'MockDraftFP_Round_7.xlsx'\n",
    "player_to_pick, projected_roto_stats = thebat_6.draft_from_list_and_find_best_pick(search_depth = 4, autodraft_depth = autodraft_depth, draft_pick_file = draft_pick_file)"
   ]
  },
  {
   "cell_type": "code",
   "execution_count": null,
   "metadata": {},
   "outputs": [],
   "source": [
    "# Example pick in the 8th round\n",
    "\n",
    "draft_pick_file = 'MockDraftFP_Round_8.xlsx'\n",
    "player_to_pick, projected_roto_stats = zips_6.draft_from_list_and_find_best_pick(search_depth = 4, autodraft_depth = autodraft_depth, draft_pick_file = draft_pick_file)"
   ]
  },
  {
   "cell_type": "code",
   "execution_count": null,
   "metadata": {},
   "outputs": [],
   "source": [
    "# Example pick in the 8th round\n",
    "\n",
    "draft_pick_file = 'MockDraftFP_Round_8.xlsx'\n",
    "player_to_pick, projected_roto_stats = steamer_6.draft_from_list_and_find_best_pick(search_depth = 4, autodraft_depth = autodraft_depth, draft_pick_file = draft_pick_file)"
   ]
  },
  {
   "cell_type": "code",
   "execution_count": null,
   "metadata": {},
   "outputs": [],
   "source": [
    "# Example pick in the 9th round\n",
    "\n",
    "draft_pick_file = 'MockDraftFP_Round_9.xlsx'\n",
    "player_to_pick, projected_roto_stats = zips_6.draft_from_list_and_find_best_pick(search_depth = 4, autodraft_depth = autodraft_depth, draft_pick_file = draft_pick_file)"
   ]
  },
  {
   "cell_type": "code",
   "execution_count": null,
   "metadata": {},
   "outputs": [],
   "source": [
    "# Example pick in the 9th round\n",
    "\n",
    "draft_pick_file = 'MockDraftFP_Round_9.xlsx'\n",
    "player_to_pick, projected_roto_stats = steamer_6.draft_from_list_and_find_best_pick(search_depth = 4, autodraft_depth = autodraft_depth, draft_pick_file = draft_pick_file)"
   ]
  },
  {
   "cell_type": "code",
   "execution_count": null,
   "metadata": {},
   "outputs": [],
   "source": [
    "# Example pick in the 9th round\n",
    "\n",
    "draft_pick_file = 'MockDraftFP_Round_9.xlsx'\n",
    "player_to_pick, projected_roto_stats = thebat_6.draft_from_list_and_find_best_pick(search_depth = 4, autodraft_depth = autodraft_depth, draft_pick_file = draft_pick_file)"
   ]
  },
  {
   "cell_type": "code",
   "execution_count": null,
   "metadata": {},
   "outputs": [],
   "source": [
    "# Example pick in the 10th round\n",
    "\n",
    "draft_pick_file = 'MockDraftFP_Round_10.xlsx'\n",
    "player_to_pick, projected_roto_stats = zips_16.draft_from_list_and_find_best_pick(search_depth = 4, autodraft_depth = autodraft_depth, draft_pick_file = draft_pick_file)"
   ]
  },
  {
   "cell_type": "code",
   "execution_count": null,
   "metadata": {},
   "outputs": [],
   "source": [
    "# Example pick in the 11th round\n",
    "\n",
    "draft_pick_file = 'MockDraftFP_Round_11.xlsx'\n",
    "player_to_pick, projected_roto_stats = zips_6.draft_from_list_and_find_best_pick(search_depth = 4, autodraft_depth = autodraft_depth, draft_pick_file = draft_pick_file)"
   ]
  },
  {
   "cell_type": "code",
   "execution_count": null,
   "metadata": {},
   "outputs": [],
   "source": [
    "# Example pick in the 12th round\n",
    "\n",
    "draft_pick_file = 'MockDraftFP_Round_12.xlsx'\n",
    "player_to_pick, projected_roto_stats = zips_6.draft_from_list_and_find_best_pick(search_depth = 4, autodraft_depth = autodraft_depth, draft_pick_file = draft_pick_file)"
   ]
  },
  {
   "cell_type": "code",
   "execution_count": null,
   "metadata": {},
   "outputs": [],
   "source": [
    "# Example pick in the 13th round\n",
    "\n",
    "draft_pick_file = 'MockDraftFP_Round_13.xlsx'\n",
    "player_to_pick, projected_roto_stats = zips_6.draft_from_list_and_find_best_pick(search_depth = 4, autodraft_depth = autodraft_depth, draft_pick_file = draft_pick_file)"
   ]
  },
  {
   "cell_type": "code",
   "execution_count": null,
   "metadata": {},
   "outputs": [],
   "source": [
    "# Example pick in the 14th round\n",
    "\n",
    "draft_pick_file = 'MockDraftFP_Round_14.xlsx'\n",
    "player_to_pick, projected_roto_stats = zips_6.draft_from_list_and_find_best_pick(search_depth = 4, autodraft_depth = autodraft_depth, draft_pick_file = draft_pick_file)"
   ]
  },
  {
   "cell_type": "code",
   "execution_count": null,
   "metadata": {},
   "outputs": [],
   "source": [
    "# Example pick in the 15th round\n",
    "\n",
    "draft_pick_file = 'MockDraftFP_Round_15.xlsx'\n",
    "player_to_pick, projected_roto_stats = zips_6.draft_from_list_and_find_best_pick(search_depth = 4, autodraft_depth = autodraft_depth, draft_pick_file = draft_pick_file)"
   ]
  },
  {
   "cell_type": "code",
   "execution_count": null,
   "metadata": {},
   "outputs": [],
   "source": [
    "# Example pick in the 16th round\n",
    "\n",
    "draft_pick_file = 'MockDraftFP_Round_16.xlsx'\n",
    "player_to_pick, projected_roto_stats = zips_6.draft_from_list_and_find_best_pick(search_depth = 4, autodraft_depth = autodraft_depth, draft_pick_file = draft_pick_file)"
   ]
  },
  {
   "cell_type": "code",
   "execution_count": null,
   "metadata": {},
   "outputs": [],
   "source": [
    "# Projected_roto_stats contains the estimated results from all teams given the recommented pick\n",
    "\n",
    "projected_stats = projected_roto_stats[0]\n",
    "projected_standings = projected_roto_stats[3]\n",
    "projected_place = projected_roto_stats[4]\n",
    "projected_scores = projected_roto_stats[5]"
   ]
  },
  {
   "cell_type": "code",
   "execution_count": null,
   "metadata": {},
   "outputs": [],
   "source": [
    "# The projected_stats give the raw numbers\n",
    "\n",
    "projected_stats"
   ]
  },
  {
   "cell_type": "code",
   "execution_count": null,
   "metadata": {},
   "outputs": [],
   "source": [
    "# And projected_scores show how they translate to roto scores\n",
    "\n",
    "projected_scores"
   ]
  },
  {
   "cell_type": "code",
   "execution_count": null,
   "metadata": {},
   "outputs": [],
   "source": [
    "# Finally, the projected_standings shows the resulting standings\n",
    "\n",
    "projected_standings"
   ]
  },
  {
   "cell_type": "code",
   "execution_count": null,
   "metadata": {},
   "outputs": [],
   "source": [
    "# But if you just want to know how your team finishes, that's projected_place\n",
    "\n",
    "projected_place"
   ]
  },
  {
   "cell_type": "code",
   "execution_count": null,
   "metadata": {},
   "outputs": [],
   "source": []
  }
 ],
 "metadata": {
  "kernelspec": {
   "display_name": "Python 3",
   "language": "python",
   "name": "python3"
  },
  "language_info": {
   "codemirror_mode": {
    "name": "ipython",
    "version": 3
   },
   "file_extension": ".py",
   "mimetype": "text/x-python",
   "name": "python",
   "nbconvert_exporter": "python",
   "pygments_lexer": "ipython3",
   "version": "3.6.7"
  }
 },
 "nbformat": 4,
 "nbformat_minor": 4
}
